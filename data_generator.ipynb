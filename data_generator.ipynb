{
  "nbformat": 4,
  "nbformat_minor": 0,
  "metadata": {
    "colab": {
      "name": "Casting_Detection_And_Segmentation.ipynb",
      "provenance": [],
      "collapsed_sections": []
    },
    "kernelspec": {
      "name": "python3",
      "display_name": "Python 3"
    },
    "language_info": {
      "name": "python"
    }
  },
  "cells": [
    {
      "cell_type": "code",
      "metadata": {
        "id": "Hf_FLrntyaX3"
      },
      "source": [
        "### Unzip the raw gdxray dataset\n",
        "import zipfile\n",
        "with zipfile.ZipFile(\"Castings.zip\", 'r') as zip_ref:\n",
        "    zip_ref.extractall(\"/content/drive/MyDrive/casting_project\")"
      ],
      "execution_count": null,
      "outputs": []
    },
    {
      "cell_type": "code",
      "metadata": {
        "id": "4JTG-ANq2cUx"
      },
      "source": [
        "! pip install --upgrade albumentations"
      ],
      "execution_count": null,
      "outputs": []
    },
    {
      "cell_type": "code",
      "metadata": {
        "colab": {
          "base_uri": "https://localhost:8080/"
        },
        "id": "0FvdUxfbkrvK",
        "outputId": "8b36c7a1-d5d0-4f18-d606-16baf969779c"
      },
      "source": [
        ""
      ],
      "execution_count": 114,
      "outputs": [
        {
          "output_type": "stream",
          "name": "stdout",
          "text": [
            "/content/drive/MyDrive/casting_project\n"
          ]
        }
      ]
    },
    {
      "cell_type": "code",
      "metadata": {
        "id": "qZAZYROOydSK"
      },
      "source": [
        "import csv\n",
        "import json\n",
        "import os\n",
        "import random\n",
        "import shutil\n",
        "\n",
        "import numpy as np\n",
        "import matplotlib.pylab as plt\n",
        "\n",
        "import albumentations as alb\n",
        "import cv2\n",
        "from tqdm import tqdm\n",
        "\n",
        "import numpy as np\n",
        "from scipy import ndimage\n",
        "from scipy.ndimage.morphology import binary_dilation as imdilate\n",
        "from PIL import Image,  ImageDraw\n",
        "from pycocotools import mask\n",
        "from skimage import measure"
      ],
      "execution_count": 93,
      "outputs": []
    },
    {
      "cell_type": "code",
      "metadata": {
        "id": "ftyvXR90ydWD"
      },
      "source": [
        "# defining util functions\n",
        "\n",
        "def rotation_matrix_3d(wx, wy, wz):\n",
        "    R = np.array([\n",
        "        [np.cos(wy) * np.cos(wz), -np.cos(wy) * np.sin(wz), np.sin(wy)],\n",
        "        [np.sin(wx) * np.sin(wy) * np.cos(wz) + np.cos(wx) * np.sin(wz),\n",
        "         -np.sin(wx) * np.sin(wy) * np.sin(wz) + np.cos(wx) * np.cos(wz),\n",
        "         -np.sin(wx) * np.cos(wy)],\n",
        "        [-np.cos(wx) * np.sin(wy) * np.cos(wz) + np.sin(wx) * np.sin(wz),\n",
        "         np.cos(wx) * np.sin(wy) * np.sin(wz) + np.sin(wx) * np.cos(wz),\n",
        "         np.cos(wx) * np.cos(wy)]\n",
        "    ])\n",
        "    return R\n",
        "def funcf(m, K):\n",
        "    x = np.ones((3, 1))\n",
        "    x[0] = m[0]\n",
        "    x[1] = m[1]\n",
        "    y = np.matmul(K, x)\n",
        "    return y\n",
        "\n"
      ],
      "execution_count": 94,
      "outputs": []
    },
    {
      "cell_type": "code",
      "metadata": {
        "id": "4aplE1KzydZq"
      },
      "source": [
        "# Define augmentation methods\n",
        "augment_call = alb.Compose([alb.Resize(height=1144, width=1536, always_apply=True, ),\n",
        "                            alb.RandomCrop(640, 640, always_apply=True), ],\n",
        "                           bbox_params=alb.BboxParams(format=\"coco\", min_area=100, min_visibility=0.6), )"
      ],
      "execution_count": 95,
      "outputs": []
    },
    {
      "cell_type": "code",
      "metadata": {
        "id": "2PwgNVuPyddA"
      },
      "source": [
        "# defining few initial variables\n",
        "folder_name = \"C0001\"\n",
        "base_path = \"\"\n",
        "test_path_ori = \"./test_aug/\"\n",
        "test_path_aug = \"./test_aug/augmented.jpg\"\n",
        "test_path_aug_with_bbox = \"./test_aug/augmented_final.jpg\"\n",
        "train_folder = \"{}train/\".format(base_path)\n",
        "test_folder = \"{}test/\".format(base_path)\n",
        "val_folder = \"{}val/\".format(base_path)\n",
        "train_json_file = \"{}train/train.json\".format(base_path, )\n",
        "val_json_file = \"{}val/val.json\".format(base_path, )\n",
        "test_json_file = \"{}test/test.json\".format(base_path, )\n",
        "base_folder = \"{}Castings/{}/\".format(base_path, folder_name)\n",
        "bbox_csv_file = \"{}Castings/BoundingBox_{}.csv\".format(base_path, folder_name)\n",
        "raw_json = \"{}Castings/{}/raw.json\".format(base_path, folder_name)\n",
        "test_json = {\"images\": [], \"annotations\": [],\n",
        "             \"final_count_images\": 0, \"final_count_annotations\": 0}\n",
        "val_json = {\"images\": [], \"annotations\": [],\n",
        "            \"final_count_images\": 0, \"final_count_annotations\": 0}\n",
        "train_json = {\"images\": [], \"annotations\": [],\n",
        "              \"final_count_images\": 0, \"final_count_annotations\": 0}\n",
        "vgg_list = []\n",
        "categories= [\n",
        "    {\n",
        "      \"id\": 0,\n",
        "      \"name\": \"flaws\",\n",
        "      \"supercategory\": \"none\"\n",
        "    },\n",
        "    {\n",
        "      \"id\": 1,\n",
        "      \"name\": \"defects\",\n",
        "      \"supercategory\": \"none\"\n",
        "    }\n",
        "  ]\n",
        "\n",
        "error_json = {\"errors\": []}\n",
        "test_image_id = 1\n",
        "train_image_id = 1\n",
        "error_json_file = \"{}train/error.json\".format(base_path)\n",
        "raw_json_object = None\n",
        "test_bbox_id = 1\n",
        "train_bbox_id = 1\n",
        "val_bbox_id = 1"
      ],
      "execution_count": 96,
      "outputs": []
    },
    {
      "cell_type": "code",
      "metadata": {
        "id": "PZH-4bINvuVO"
      },
      "source": [
        "###\n",
        "# Steps for data generation:\n",
        "# Using albumentation enlarge the images from ‪768 x 572‬ to 1536 x 1144\n",
        "# Then take random crops of 640 x 640 \n",
        "# Crops without bounding boxes will be used for defect simulation\n",
        "# Rest of the crops will serve as our test data \n",
        "###"
      ],
      "execution_count": 97,
      "outputs": []
    },
    {
      "cell_type": "code",
      "metadata": {
        "id": "xCJ-NxHVvudi"
      },
      "source": [
        "def convert_csv_to_raw_json():\n",
        "  # Converts the csv bounding box file to json file\n",
        "    raw_map = {\"images\": []}\n",
        "    bbox_csv = csv.reader(open(bbox_csv_file, \"r\"))\n",
        "    for row in tqdm(bbox_csv):\n",
        "        x, y, w, h = 0, 0, 0, 0\n",
        "        if int(row[1]) < int(row[2]):\n",
        "            x = int(row[1])\n",
        "            y = int(row[3])\n",
        "        else:\n",
        "            x = int(row[2])\n",
        "            y = int(row[4])\n",
        "        w = abs(int(row[1]) - int(row[2]))\n",
        "        h = abs(int(row[3]) - int(row[4]))\n",
        "        raw_map[\"images\"].append({\n",
        "            \"image_id\": row[0],\n",
        "            \"bbox\": [x, y, w, h, \"defect\"],\n",
        "        })\n",
        "    json_object = json.dumps(raw_map, indent=4)\n",
        "    with open(raw_json, \"w\") as outfile:\n",
        "        outfile.write(json_object)"
      ],
      "execution_count": 98,
      "outputs": []
    },
    {
      "cell_type": "code",
      "metadata": {
        "id": "6v-yD45Evuhi"
      },
      "source": [
        "def preprocess_image(image_name, image_id, ):\n",
        "    image_cv = cv2.imread(base_folder + image_name)\n",
        "    global test_image_id, test_bbox_id, train_image_id\n",
        "    result = search(image_id)\n",
        "    total_bboxes = []\n",
        "    if len(result) != 0:\n",
        "        for item in result:\n",
        "            total_bboxes.append(item[\"bbox\"])\n",
        "        suffix_test = 1\n",
        "        suffix_train = 1\n",
        "        for _ in range(1, 3): # change 51 to any number you want, this will increase the number of random crops applied on the image\n",
        "            try:\n",
        "                augmented_result = augment_call(\n",
        "                    image=image_cv, bboxes=total_bboxes, )\n",
        "                augmented_image = augmented_result['image']\n",
        "                augmented_bboxes = augmented_result['bboxes']\n",
        "                if len(augmented_bboxes) != 0 and augmented_bboxes != []:\n",
        "                    test_json[\"images\"].append({\n",
        "                        \"height\": 640,\n",
        "                        \"width\": 640,\n",
        "                        \"file_name\": \"{}_{}.png\".format(image_name.split(\".\")[0], suffix_test),\n",
        "                        \"id\": str(test_image_id),\n",
        "                        \"final_count_images\": test_image_id,\n",
        "                    })\n",
        "                    test_json[\"final_count_images\"] = test_image_id\n",
        "                    for bbox in augmented_bboxes:\n",
        "                        test_json[\"annotations\"].append({\n",
        "                            \"id\": str(test_bbox_id),\n",
        "                            \"image_id\": str(test_image_id),\n",
        "                            \"category_id\": 1,\n",
        "                            \"bbox\": [bbox[0], bbox[1], bbox[2], bbox[3]],\n",
        "                            \"area\": bbox[2] * bbox[3],\n",
        "                            \"segmentation\": [],\n",
        "                            \"iscrowd\": 0,\n",
        "\n",
        "                        })\n",
        "                        test_json[\"final_count_annotations\"] = test_bbox_id\n",
        "                        test_bbox_id += 1\n",
        "                    cv2.imwrite(\"{}{}{}.png\".format(test_folder, image_name.split(\".\")[0], suffix_test, ),\n",
        "                                augmented_image)\n",
        "                    suffix_test += 1\n",
        "                    test_image_id += 1\n",
        "                else:\n",
        "                    train_json[\"images\"].append({\n",
        "                        \"height\": 640,\n",
        "                        \"width\": 640,\n",
        "                        \"file_name\": \"{}{}.png\".format(image_name.split(\".\")[0], suffix_train),\n",
        "                        \"id\": str(train_image_id),\n",
        "                    })\n",
        "                    train_json[\"final_count_images\"] = train_image_id\n",
        "                    cv2.imwrite(\"{}{}{}.png\".format(train_folder, image_name.split(\".\")[0], suffix_train),\n",
        "                                augmented_image)\n",
        "                    train_image_id += 1\n",
        "                    suffix_train += 1\n",
        "            except Exception as error:\n",
        "                error_json[\"errors\"].append({\n",
        "                    \"file_name\": image_name,\n",
        "                    \"final_count_images_test\": test_image_id,\n",
        "                    \"final_count_images_train\": train_image_id,\n",
        "                    \"error\": str(error),\n",
        "                })\n",
        "                continue\n",
        "\n",
        "    else:\n",
        "        pass\n",
        "\n"
      ],
      "execution_count": 99,
      "outputs": []
    },
    {
      "cell_type": "code",
      "metadata": {
        "id": "l5sQxqRK3AjN"
      },
      "source": [
        "\n",
        "def search(image_id, ):\n",
        "    result = []\n",
        "    for p in raw_json_object[\"images\"]:\n",
        "        if p['image_id'] == image_id:\n",
        "            result.append(p)\n",
        "    return result\n"
      ],
      "execution_count": 100,
      "outputs": []
    },
    {
      "cell_type": "code",
      "metadata": {
        "id": "TLfYvYUSvukW"
      },
      "source": [
        "def augment_and_save():\n",
        "    global raw_json_object\n",
        "    raw_json_object = json.load(open(raw_json, \"r\"))\n",
        "    ids = os.listdir(base_folder)\n",
        "    image_id = 1\n",
        "    for i, _id in enumerate(ids):\n",
        "        if '.png' in _id:\n",
        "            preprocess_image(_id, str(image_id))\n",
        "            image_id += 1\n",
        "        else:\n",
        "            pass\n",
        "    json_object = json.dumps(test_json, indent=4)\n",
        "    with open(test_json_file, \"w\") as outfile:\n",
        "        outfile.write(json_object)\n",
        "    json_object = json.dumps(train_json, indent=4)\n",
        "    with open(train_json_file, \"w\") as outfile:\n",
        "        outfile.write(json_object)\n",
        "    json_object = json.dumps(error_json, indent=4)\n",
        "    with open(error_json_file, \"w\") as outfile:\n",
        "        outfile.write(json_object)\n",
        "    with open(\"casting_train.txt\",\"w\") as textFile:\n",
        "        for img in train_json[\"images\"]:\n",
        "            textFile.write(\"Castings/C0001/\" + img[\"file_name\"]+\"\\n\")"
      ],
      "execution_count": 113,
      "outputs": []
    },
    {
      "cell_type": "code",
      "metadata": {
        "id": "iJFuAztD3blM"
      },
      "source": [
        "def set_folder_name(name, train_directory= None, test_directory= None, base_path_of_directory= None, bbox_csv_file_path = None):\n",
        "    global folder_name, base_folder, bbox_csv_file, raw_json, test_json, train_json, test_image_id, train_image_id, \\\n",
        "        train_folder, test_folder, base_path\n",
        "    folder_name = name\n",
        "    if base_path_of_directory is not None:\n",
        "        base_path = base_path_of_directory\n",
        "    bbox_csv_file = \"{}Castings/BoundingBox_{}.csv\".format(\n",
        "        base_path, folder_name,)\n",
        "    base_folder = \"{}Castings/{}/\".format(base_path, folder_name)\n",
        "    raw_json = \"{}Castings/{}/raw.json\".format(base_path, folder_name)\n",
        "    test_json = json.load(open(test_json_file, \"r\"))\n",
        "    train_json = json.load(open(train_json_file, \"r\"))\n",
        "    test_image_id = test_json[\"final_count_images\"] + 1\n",
        "    train_image_id = train_json[\"final_count_images\"] + 1\n",
        "    if bbox_csv_file_path is not None:\n",
        "        bbox_csv_file = bbox_csv_file_path\n",
        "    if train_directory is not None:\n",
        "        train_folder = train_directory\n",
        "    if test_directory is not None:\n",
        "        test_folder = test_directory\n",
        "    # print(base_path)\n",
        "    # print(base_folder)\n"
      ],
      "execution_count": 102,
      "outputs": []
    },
    {
      "cell_type": "code",
      "metadata": {
        "id": "Mn7kmUK7vuoG"
      },
      "source": [
        "def generate_train_test():\n",
        "    convert_csv_to_raw_json()\n",
        "    augment_and_save()\n",
        "\n",
        "    # list_of_folder_name = [\"C0007\" ]\n",
        "    list_of_folder_name = [\"C0007\", \"C0008\", \"C0010\", \"C0015\", \"C0019\", \"C0021\", \"C0024\", \"C0026\", \"C0029\", \"C0030\",\n",
        "                           \"C0031\", \"C0032\", \"C0033\", \"C0034\", \"C0035\", \"C0036\", \"C0037\", \"C0038\", \"C0039\", \"C0040\",\n",
        "                           \"C0041\", \"C0042\", \"C0043\", \"C0045\", \"C0047\", \"C0051\", \"C0054\", \"C0057\", \"C0060\", \"C0062\",\n",
        "                           \"C0065\", ]\n",
        "    # list_of_folder_name=[]\n",
        "    print(\"************************** \\nDone with C0001\\n**************************\")\n",
        "    for folder in list_of_folder_name:\n",
        "        set_folder_name(folder)\n",
        "        convert_csv_to_raw_json()\n",
        "        augment_and_save()\n",
        "        print(\"************************** \\nDone with {}\\n**************************\".format(folder))\n"
      ],
      "execution_count": 103,
      "outputs": []
    },
    {
      "cell_type": "code",
      "metadata": {
        "id": "NUpU6hlJvuuZ"
      },
      "source": [
        "# Now we split the train folder into train and val folders"
      ],
      "execution_count": 104,
      "outputs": []
    },
    {
      "cell_type": "code",
      "metadata": {
        "id": "TO2i55mKvuxz"
      },
      "source": [
        "def train_val_split():\n",
        "    list_dir = os.listdir(train_folder)\n",
        "    random.shuffle(list_dir)\n",
        "    val_file_list = random.sample(list_dir, int(len(list_dir) * 0.1))\n",
        "    for file in val_file_list:\n",
        "        shutil.move(train_folder + file, val_folder)\n",
        "\n"
      ],
      "execution_count": 105,
      "outputs": []
    },
    {
      "cell_type": "code",
      "metadata": {
        "id": "cZ27m-Mys60C"
      },
      "source": [
        "\n",
        "def ellipsoid_simulation(I, K, SSe, f, abc, var_mu, xmax, negative):\n",
        "    if negative:\n",
        "        I = 255 - I\n",
        "    J = I.copy()\n",
        "    \n",
        "    (N, M) = I.shape\n",
        "    binary_mask = np.zeros((N, M),dtype=np.uint8)\n",
        "    R = np.zeros((N, M))  # ROI of simulated defect\n",
        "\n",
        "    invK = np.linalg.inv(K)\n",
        "\n",
        "    if len(abc) == 3:  # ellipsoid\n",
        "        (a, b, c) = abc\n",
        "    else:  # sphere\n",
        "        a = abc\n",
        "        b = a\n",
        "        c = a\n",
        "\n",
        "        # Computation of the 3 x 3 matrices Phi and L\n",
        "    H = np.linalg.inv(SSe)\n",
        "    h0 = H[0, :] / a\n",
        "    h1 = H[1, :] / b\n",
        "    h2 = H[2, :] / c\n",
        "    Hs = np.zeros((3, 3))\n",
        "    Hs[:, 0] = h0[0:3]\n",
        "    Hs[:, 1] = h1[0:3]\n",
        "    Hs[:, 2] = h2[0:3]\n",
        "    hd = np.zeros((3, 1))\n",
        "    hd[0] = h0[3]\n",
        "    hd[1] = h1[3]\n",
        "    hd[2] = h2[3]\n",
        "    Phi = np.matmul(Hs, Hs.T)\n",
        "    hhd = np.matmul(hd, hd.T)\n",
        "    hhd1 = 1 - np.matmul(hd.T, hd)\n",
        "    L = np.matmul(np.matmul(Hs, hhd), Hs.T) + hhd1 * Phi\n",
        "\n",
        "    # Location of the superimposed area\n",
        "    A = L[0:2, 0:2]\n",
        "    mc = np.array(-f * np.matmul(np.linalg.inv(A), L[0:2, 2]))\n",
        "    x = np.linalg.eig(A)[0]\n",
        "    C = np.array([x[1], x[0]])\n",
        "    la = C\n",
        "    a00 = np.linalg.det(L) / np.linalg.det(A)\n",
        "    ae = f * np.sqrt(-a00 / la[0])\n",
        "    be = f * np.sqrt(-a00 / la[1])\n",
        "    al = np.arctan2(C[1], C[0]) + np.pi\n",
        "    ra = np.array([ae * np.cos(al), ae * np.sin(al)])\n",
        "    rb = np.array([be * np.cos(al + np.pi / 2), be * np.sin(al + np.pi / 2)])\n",
        "    u1 = funcf(mc + ra, K)\n",
        "    u2 = funcf(mc + rb, K)\n",
        "    u3 = funcf(mc - ra, K)\n",
        "    u4 = funcf(mc - rb, K)\n",
        "    uc = funcf(mc, K)\n",
        "    e1 = u1 + u2 - uc\n",
        "    e2 = u1 + u4 - uc\n",
        "    e3 = u3 + u2 - uc\n",
        "    e4 = u3 + u4 - uc\n",
        "    Es = np.concatenate((e1, e2, e3, e4), axis=1)\n",
        "    E = Es[0:2, :]\n",
        "    Emax = np.max(E, axis=1)\n",
        "    Emin = np.min(E, axis=1)\n",
        "    umin = int(np.fix(Emin[0]))\n",
        "    umax = int(np.fix(Emax[0] + 1))\n",
        "    vmin = int(np.fix(Emin[1]))\n",
        "    vmax = int(np.fix(Emax[1] + 1))\n",
        "    bb = (vmin, vmax, umin, umax)\n",
        "    \n",
        "    \n",
        "    if umin >= 0 and umax < M and vmin >= 0 and vmax < N:\n",
        "        q = 255 / (1 - np.exp(var_mu * xmax))\n",
        "        R[umin:umax, vmin:vmax] = 1\n",
        "        R = imdilate(R)\n",
        "\n",
        "        z = np.zeros((2, 1))\n",
        "        for u in range(umin, umax):\n",
        "            z[0] = u\n",
        "            for v in range(vmin, vmax):\n",
        "                max_u, max_v = J.shape\n",
        "                if max_u - 1 < u or max_v - 1 < v:\n",
        "                    break\n",
        "                z[1] = v\n",
        "                m = funcf(z, invK)\n",
        "                m[0:2] = m[0:2] / f\n",
        "                p = np.matmul(np.matmul(m.T, L), m)\n",
        "                if p > 0:\n",
        "                    x = np.matmul(np.matmul(m.T, Phi), m)\n",
        "                    d = 2 * np.sqrt(p) * np.linalg.norm(m) / x\n",
        "                    J[u, v] = np.exp(var_mu * d) * (I[u, v] - q) + q\n",
        "                    binary_mask[u,v] = 255 # binary binary_mask\n",
        "\n",
        "    if negative:\n",
        "        J = 255 - J\n",
        "    return J, bb, binary_mask"
      ],
      "execution_count": 106,
      "outputs": []
    },
    {
      "cell_type": "code",
      "metadata": {
        "id": "SgCDhSkwpO3B"
      },
      "source": [
        "\n",
        "def simulate(image_path,  image_id, isTrain,defect_num):\n",
        "    global train_bbox_id, val_bbox_id\n",
        "    darker = False  # for castings, defects are brighter than the test object\n",
        "    countour = []\n",
        "    if 'png'not in image_path:\n",
        "      return \n",
        "    # Example 2: Welds\n",
        "    # img_name = 'weld.png'\n",
        "    # darker = True # for welds, defects are darker than the test object\n",
        "    numpy_simulated_image = None\n",
        "    image = cv2.imread(image_path, cv2.IMREAD_GRAYSCALE)\n",
        "    I = np.double(image)\n",
        "    N, M = I.shape\n",
        "    ok = False\n",
        "    xmin, xmax, ymin, ymax = None, None, None, None\n",
        "    while not ok:\n",
        "        # Transformation (X,Y,Z)->(Xb,Yb,Zb)\n",
        "        wx = 2 * np.pi * random.random()\n",
        "        wy = 2 * np.pi * random.random()\n",
        "        wz = 2 * np.pi * random.random()\n",
        "        R1 = rotation_matrix_3d(wx, wy, wz)\n",
        "        tx = -166 + 460 * random.random()\n",
        "        ty = -250 + 560 * random.random()\n",
        "        tz = 1000\n",
        "        t1 = np.array([tx, ty, tz])\n",
        "        S = np.vstack(\n",
        "            [np.hstack([R1, t1[:, np.newaxis]]), np.array([0, 0, 0, 1])])\n",
        "\n",
        "        # Transformation (Xp,Yp,Zp)->(X,Y,Z)\n",
        "        R2 = rotation_matrix_3d(0, 0, np.pi / 3)\n",
        "        t2 = np.array([0, 0, 0])\n",
        "        Se = np.vstack(\n",
        "            [np.hstack([R2, t2[:, np.newaxis]]), np.array([0, 0, 0, 1])])\n",
        "\n",
        "        # Transformation (Xp,Yp,Zp)->(Xb,Yb,Zb)\n",
        "        SSe = np.matmul(S, Se)\n",
        "\n",
        "        # Transformation (x,y)->(u,v)\n",
        "        K = np.array([[1.1, 0, 235], [0, 1.1, 305], [0, 0, 1]])\n",
        "\n",
        "        # Dimensions of the ellipsoid in mm\n",
        "        a = 1 + 10 * random.random()\n",
        "        b = 1 + 10 * random.random()\n",
        "        c = 1 + 10 * random.random()\n",
        "\n",
        "        # Focal distance in mm\n",
        "        f = 1500\n",
        "\n",
        "        # X-ray Absorption coefficient\n",
        "        mu = 0.01  # the larger the starker the intensity of the defect\n",
        "\n",
        "        # Maximal observable thickness in mm in the X-ray image\n",
        "        xmax = 400\n",
        "\n",
        "        # Simulation: J simulated image, bb bounding box\n",
        "        numpy_simulated_image, bb, binary_mask = ellipsoid_simulation(\n",
        "            I, K, SSe, f, (a, b, c), mu, xmax, darker)\n",
        "        (xmin, xmax, ymin, ymax) = bb\n",
        "\n",
        "        if xmin >= 0 and xmax < M and ymin >= 0 and ymax < N:\n",
        "            ok = True\n",
        "\n",
        "    x = int(xmin)\n",
        "    y = int(ymin)\n",
        "    w = int(abs(xmax-xmin))\n",
        "    h = int(abs(ymax-ymin))\n",
        "\n",
        "    edge = cv2.Canny(image=binary_mask, threshold1=100, threshold2=200)  \n",
        "\n",
        "    for i in range(640):  \n",
        "      for j in range(640):\n",
        "        if edge[i,j] != 0:\n",
        "          countour.append(i)\n",
        "          countour.append(j) \n",
        "    # contours = measure.find_contours(edge, 0.5)\n",
        "    \n",
        "    # segm = []\n",
        "\n",
        "    # for contour in contours:\n",
        "    #   contour = np.flip(contour, axis=1)\n",
        "    #   segmentation = contour.ravel().tolist()\n",
        "    #   segm.append(segmentation)\n",
        "\n",
        "    file_name = image_path.split('/')[len(image_path.split('/'))-1].split('.')[0]\n",
        "    folder_name = file_name.split('_')[0]\n",
        "    cv2.imwrite(filename=image_path, img=numpy_simulated_image)     # write image\n",
        "    cv2.imwrite(filename=\"masks/\" + file_name+ \"_\" + str(defect_num) + \".png\" , img=binary_mask)     # write image\n",
        "\n",
        "    fortran_ground_truth_binary_mask = np.asfortranarray(edge)\n",
        "    encoded_ground_truth = mask.encode(fortran_ground_truth_binary_mask)\n",
        "    ground_truth_area = mask.area(encoded_ground_truth)\n",
        "\n",
        "\n",
        "    if isTrain:\n",
        "      train_json[\"annotations\"].append({\n",
        "        \"id\": str(train_bbox_id),\n",
        "        \"image_id\": str(image_id),\n",
        "        \"category_id\": 1,\n",
        "        \"bbox\": [x, y, w, h],\n",
        "        \"area\": int(ground_truth_area),\n",
        "        \"segmentation\": countour,\n",
        "        \"iscrowd\": 0,\n",
        "      }) \n",
        "    else:\n",
        "      val_json[\"annotations\"].append({\n",
        "        \"id\": str(train_bbox_id),\n",
        "        \"image_id\": str(image_id),\n",
        "        \"category_id\": 1,\n",
        "        \"bbox\": [x, y, w, h],\n",
        "        \"area\": int(ground_truth_area),\n",
        "        \"segmentation\": countour,\n",
        "        \"iscrowd\": 0,\n",
        "      })\n",
        "    train_bbox_id += 1"
      ],
      "execution_count": 107,
      "outputs": []
    },
    {
      "cell_type": "code",
      "metadata": {
        "id": "lMBQQmdnpAnf"
      },
      "source": [
        "def loop_for_simulation(isTrain):\n",
        "    global train_json\n",
        "    train_json = {\"images\": [], \"annotations\": [],\n",
        "              \"final_count_images\": 0, \"final_count_annotations\": 0, \"categories\":categories}\n",
        "    global train_image_id\n",
        "    train_image_id = 1\n",
        "    if isTrain:\n",
        "      folder =  train_folder \n",
        "    else:\n",
        "      folder = val_folder\n",
        "    images = os.listdir(folder)\n",
        "    for i in range(len(images)):\n",
        "        if \"json\" in images[i]:\n",
        "            images.pop(i)\n",
        "            break\n",
        "    for i in range(len(images)):\n",
        "        if \"json\" in images[i]:\n",
        "            images.pop(i)\n",
        "            break\n",
        "\n",
        "    for image in tqdm(images):\n",
        "        random_defects = int(random.randint(1, 1001) / 250)\n",
        "        for defect_num in range(random_defects):\n",
        "\n",
        "            image_path = folder+image\n",
        "            simulate(image_path=image_path, image_id=train_image_id, isTrain=isTrain, defect_num=defect_num )\n",
        "        \n",
        "        train_json[\"images\"].append({\n",
        "            \"height\": 640,\n",
        "            \"width\": 640,\n",
        "            \"file_name\": image,\n",
        "            \"id\": str(train_image_id),\n",
        "        })\n",
        "        train_image_id += 1\n",
        "    print(train_json)\n",
        "    json_object = json.dumps(train_json, indent=2)\n",
        "    with open(train_json_file, \"w\") as outfile:\n",
        "      outfile.write(json_object)\n",
        "\n"
      ],
      "execution_count": 108,
      "outputs": []
    },
    {
      "cell_type": "code",
      "metadata": {
        "colab": {
          "base_uri": "https://localhost:8080/"
        },
        "id": "8jv2SqFZRb0c",
        "outputId": "5110847c-be18-401c-d771-7b763df4b945"
      },
      "source": [
        "generate_train_test()"
      ],
      "execution_count": 109,
      "outputs": [
        {
          "output_type": "stream",
          "name": "stderr",
          "text": [
            "226it [00:00, 99633.46it/s]\n"
          ]
        },
        {
          "output_type": "stream",
          "name": "stdout",
          "text": [
            "************************** \n",
            "Done with C0001\n",
            "**************************\n"
          ]
        }
      ]
    },
    {
      "cell_type": "code",
      "metadata": {
        "id": "NesGBhvspJiE"
      },
      "source": [
        ""
      ],
      "execution_count": 110,
      "outputs": []
    },
    {
      "cell_type": "code",
      "metadata": {
        "id": "4Q8C9naapCHR",
        "colab": {
          "base_uri": "https://localhost:8080/"
        },
        "outputId": "3375be10-9af9-40bb-906c-93b2c5d9ebc9"
      },
      "source": [
        "loop_for_simulation(isTrain=True)"
      ],
      "execution_count": 111,
      "outputs": [
        {
          "output_type": "stream",
          "name": "stderr",
          "text": [
            "100%|██████████| 64/64 [01:26<00:00,  1.35s/it]"
          ]
        },
        {
          "output_type": "stream",
          "name": "stdout",
          "text": [
            "{'images': [{'height': 640, 'width': 640, 'file_name': 'C0001_00011.png', 'id': '1'}, {'height': 640, 'width': 640, 'file_name': 'C0001_00012.png', 'id': '2'}, {'height': 640, 'width': 640, 'file_name': 'C0001_00021.png', 'id': '3'}, {'height': 640, 'width': 640, 'file_name': 'C0001_00022.png', 'id': '4'}, {'height': 640, 'width': 640, 'file_name': 'C0001_00041.png', 'id': '5'}, {'height': 640, 'width': 640, 'file_name': 'C0001_00042.png', 'id': '6'}, {'height': 640, 'width': 640, 'file_name': 'C0001_00051.png', 'id': '7'}, {'height': 640, 'width': 640, 'file_name': 'C0001_00061.png', 'id': '8'}, {'height': 640, 'width': 640, 'file_name': 'C0001_00081.png', 'id': '9'}, {'height': 640, 'width': 640, 'file_name': 'C0001_00082.png', 'id': '10'}, {'height': 640, 'width': 640, 'file_name': 'C0001_00091.png', 'id': '11'}, {'height': 640, 'width': 640, 'file_name': 'C0001_00092.png', 'id': '12'}, {'height': 640, 'width': 640, 'file_name': 'C0001_00101.png', 'id': '13'}, {'height': 640, 'width': 640, 'file_name': 'C0001_00102.png', 'id': '14'}, {'height': 640, 'width': 640, 'file_name': 'C0001_00111.png', 'id': '15'}, {'height': 640, 'width': 640, 'file_name': 'C0001_00112.png', 'id': '16'}, {'height': 640, 'width': 640, 'file_name': 'C0001_00121.png', 'id': '17'}, {'height': 640, 'width': 640, 'file_name': 'C0001_00131.png', 'id': '18'}, {'height': 640, 'width': 640, 'file_name': 'C0001_00141.png', 'id': '19'}, {'height': 640, 'width': 640, 'file_name': 'C0001_00142.png', 'id': '20'}, {'height': 640, 'width': 640, 'file_name': 'C0001_00151.png', 'id': '21'}, {'height': 640, 'width': 640, 'file_name': 'C0001_00161.png', 'id': '22'}, {'height': 640, 'width': 640, 'file_name': 'C0001_00162.png', 'id': '23'}, {'height': 640, 'width': 640, 'file_name': 'C0001_00171.png', 'id': '24'}, {'height': 640, 'width': 640, 'file_name': 'C0001_00172.png', 'id': '25'}, {'height': 640, 'width': 640, 'file_name': 'C0001_00181.png', 'id': '26'}, {'height': 640, 'width': 640, 'file_name': 'C0001_00182.png', 'id': '27'}, {'height': 640, 'width': 640, 'file_name': 'C0001_00191.png', 'id': '28'}, {'height': 640, 'width': 640, 'file_name': 'C0001_00201.png', 'id': '29'}, {'height': 640, 'width': 640, 'file_name': 'C0001_00211.png', 'id': '30'}, {'height': 640, 'width': 640, 'file_name': 'C0001_00231.png', 'id': '31'}, {'height': 640, 'width': 640, 'file_name': 'C0001_00241.png', 'id': '32'}, {'height': 640, 'width': 640, 'file_name': 'C0001_00261.png', 'id': '33'}, {'height': 640, 'width': 640, 'file_name': 'C0001_00271.png', 'id': '34'}, {'height': 640, 'width': 640, 'file_name': 'C0001_00291.png', 'id': '35'}, {'height': 640, 'width': 640, 'file_name': 'C0001_00351.png', 'id': '36'}, {'height': 640, 'width': 640, 'file_name': 'C0001_00352.png', 'id': '37'}, {'height': 640, 'width': 640, 'file_name': 'C0001_00361.png', 'id': '38'}, {'height': 640, 'width': 640, 'file_name': 'C0001_00371.png', 'id': '39'}, {'height': 640, 'width': 640, 'file_name': 'C0001_00381.png', 'id': '40'}, {'height': 640, 'width': 640, 'file_name': 'C0001_00391.png', 'id': '41'}, {'height': 640, 'width': 640, 'file_name': 'C0001_00392.png', 'id': '42'}, {'height': 640, 'width': 640, 'file_name': 'C0001_00401.png', 'id': '43'}, {'height': 640, 'width': 640, 'file_name': 'C0001_00411.png', 'id': '44'}, {'height': 640, 'width': 640, 'file_name': 'C0001_00421.png', 'id': '45'}, {'height': 640, 'width': 640, 'file_name': 'C0001_00431.png', 'id': '46'}, {'height': 640, 'width': 640, 'file_name': 'C0001_00441.png', 'id': '47'}, {'height': 640, 'width': 640, 'file_name': 'C0001_00442.png', 'id': '48'}, {'height': 640, 'width': 640, 'file_name': 'C0001_00451.png', 'id': '49'}, {'height': 640, 'width': 640, 'file_name': 'C0001_00461.png', 'id': '50'}, {'height': 640, 'width': 640, 'file_name': 'C0001_00501.png', 'id': '51'}, {'height': 640, 'width': 640, 'file_name': 'C0001_00511.png', 'id': '52'}, {'height': 640, 'width': 640, 'file_name': 'C0001_00521.png', 'id': '53'}, {'height': 640, 'width': 640, 'file_name': 'C0001_00531.png', 'id': '54'}, {'height': 640, 'width': 640, 'file_name': 'C0001_00541.png', 'id': '55'}, {'height': 640, 'width': 640, 'file_name': 'C0001_00551.png', 'id': '56'}, {'height': 640, 'width': 640, 'file_name': 'C0001_00561.png', 'id': '57'}, {'height': 640, 'width': 640, 'file_name': 'C0001_00562.png', 'id': '58'}, {'height': 640, 'width': 640, 'file_name': 'C0001_00601.png', 'id': '59'}, {'height': 640, 'width': 640, 'file_name': 'C0001_00611.png', 'id': '60'}, {'height': 640, 'width': 640, 'file_name': 'C0001_00621.png', 'id': '61'}, {'height': 640, 'width': 640, 'file_name': 'C0001_00641.png', 'id': '62'}, {'height': 640, 'width': 640, 'file_name': 'C0001_00701.png', 'id': '63'}, {'height': 640, 'width': 640, 'file_name': 'C0001_00711.png', 'id': '64'}], 'annotations': [{'id': '1', 'image_id': '1', 'category_id': 1, 'bbox': [41, 399, 28, 26], 'area': 65, 'segmentation': [401, 54, 401, 55, 402, 52, 402, 53, 402, 56, 402, 57, 403, 50, 403, 51, 403, 58, 403, 59, 404, 49, 404, 50, 404, 59, 404, 60, 405, 48, 405, 49, 405, 60, 405, 61, 406, 48, 406, 61, 406, 62, 407, 47, 407, 62, 408, 47, 408, 62, 409, 47, 409, 63, 410, 46, 410, 63, 411, 46, 411, 63, 412, 46, 412, 63, 413, 47, 413, 63, 414, 47, 414, 63, 415, 47, 415, 63, 416, 48, 416, 63, 417, 48, 417, 63, 418, 49, 418, 63, 419, 49, 419, 50, 419, 62, 420, 50, 420, 51, 420, 61, 420, 62, 421, 51, 421, 52, 421, 60, 421, 61, 422, 52, 422, 53, 422, 54, 422, 55, 422, 56, 422, 57, 422, 58, 422, 59, 422, 60], 'iscrowd': 0}, {'id': '2', 'image_id': '1', 'category_id': 1, 'bbox': [171, 535, 31, 27], 'area': 69, 'segmentation': [540, 184, 540, 185, 540, 186, 540, 187, 540, 188, 540, 189, 540, 190, 540, 191, 540, 192, 541, 181, 541, 182, 541, 183, 541, 193, 541, 194, 542, 179, 542, 180, 542, 195, 542, 196, 543, 178, 543, 179, 543, 196, 543, 197, 544, 176, 544, 177, 544, 197, 544, 198, 545, 176, 545, 198, 546, 175, 546, 199, 547, 175, 547, 199, 548, 174, 548, 199, 549, 174, 549, 199, 550, 174, 550, 199, 551, 174, 551, 198, 552, 175, 552, 197, 552, 198, 553, 175, 553, 196, 553, 197, 554, 176, 554, 195, 554, 196, 555, 177, 555, 178, 555, 194, 555, 195, 556, 178, 556, 179, 556, 180, 556, 181, 556, 190, 556, 191, 556, 192, 556, 193, 557, 182, 557, 183, 557, 184, 557, 185, 557, 186, 557, 187, 557, 188, 557, 189], 'iscrowd': 0}, {'id': '3', 'image_id': '2', 'category_id': 1, 'bbox': [574, 231, 45, 44], 'area': 101, 'segmentation': [238, 595, 238, 596, 238, 597, 238, 598, 238, 599, 238, 600, 238, 601, 238, 602, 238, 603, 239, 592, 239, 593, 239, 594, 239, 604, 239, 605, 240, 590, 240, 591, 240, 606, 240, 607, 241, 589, 241, 590, 241, 607, 241, 608, 242, 587, 242, 588, 242, 609, 243, 586, 243, 587, 243, 610, 244, 585, 244, 586, 244, 610, 244, 611, 245, 585, 245, 611, 246, 584, 246, 611, 247, 583, 247, 584, 247, 612, 248, 583, 248, 612, 249, 582, 249, 612, 250, 582, 250, 612, 251, 581, 251, 612, 252, 581, 252, 612, 253, 581, 253, 612, 254, 581, 254, 612, 255, 580, 255, 611, 256, 580, 256, 611, 257, 581, 257, 611, 258, 581, 258, 610, 259, 581, 259, 610, 260, 582, 260, 609, 261, 582, 261, 608, 261, 609, 262, 583, 262, 607, 262, 608, 263, 583, 263, 584, 263, 606, 263, 607, 264, 584, 264, 585, 264, 605, 264, 606, 265, 585, 265, 586, 265, 603, 265, 604, 266, 586, 266, 587, 266, 601, 266, 602, 266, 603, 267, 588, 267, 589, 267, 590, 267, 591, 267, 592, 267, 597, 267, 598, 267, 599, 267, 600, 268, 593, 268, 594, 268, 595, 268, 596], 'iscrowd': 0}, {'id': '4', 'image_id': '2', 'category_id': 1, 'bbox': [151, 90, 28, 10], 'area': 33, 'segmentation': [89, 165, 89, 166, 89, 167, 89, 168, 89, 169, 90, 163, 90, 164, 90, 170, 91, 163, 91, 170, 92, 162, 92, 170, 93, 161, 93, 162, 93, 170, 94, 161, 94, 169, 95, 160, 95, 169, 96, 160, 96, 168, 97, 160, 97, 168, 98, 159, 98, 167, 99, 159, 99, 161, 99, 162, 99, 163, 99, 164, 99, 165, 99, 166, 99, 167], 'iscrowd': 0}, {'id': '5', 'image_id': '2', 'category_id': 1, 'bbox': [314, 382, 43, 42], 'area': 98, 'segmentation': [387, 334, 387, 335, 387, 336, 387, 337, 388, 331, 388, 332, 388, 333, 388, 338, 388, 339, 388, 340, 389, 329, 389, 330, 389, 341, 389, 342, 390, 328, 390, 329, 390, 343, 390, 344, 391, 326, 391, 327, 391, 344, 391, 345, 392, 325, 392, 326, 392, 345, 392, 346, 393, 324, 393, 325, 393, 346, 393, 347, 394, 324, 394, 347, 395, 323, 395, 348, 396, 323, 396, 348, 397, 322, 397, 349, 398, 322, 398, 349, 399, 321, 399, 349, 400, 321, 400, 349, 401, 321, 401, 349, 402, 321, 402, 349, 403, 321, 403, 349, 404, 321, 404, 349, 405, 321, 405, 349, 406, 321, 406, 349, 407, 321, 407, 349, 408, 322, 408, 349, 409, 322, 409, 348, 410, 322, 410, 348, 411, 323, 411, 347, 411, 348, 412, 323, 412, 324, 412, 347, 413, 324, 413, 325, 413, 346, 414, 325, 414, 326, 414, 345, 414, 346, 415, 326, 415, 327, 415, 344, 415, 345, 416, 327, 416, 328, 416, 342, 416, 343, 417, 329, 417, 330, 417, 331, 417, 339, 417, 340, 417, 341, 418, 332, 418, 333, 418, 334, 418, 335, 418, 336, 418, 337, 418, 338], 'iscrowd': 0}, {'id': '6', 'image_id': '3', 'category_id': 1, 'bbox': [452, 57, 30, 28], 'area': 67, 'segmentation': [61, 467, 61, 468, 61, 469, 62, 464, 62, 465, 62, 466, 62, 470, 62, 471, 62, 472, 63, 462, 63, 463, 63, 473, 63, 474, 64, 460, 64, 461, 64, 475, 64, 476, 65, 459, 65, 460, 65, 476, 65, 477, 66, 458, 66, 459, 66, 477, 67, 457, 67, 458, 67, 478, 68, 457, 68, 478, 69, 456, 69, 478, 70, 456, 70, 478, 71, 455, 71, 478, 72, 455, 72, 478, 73, 455, 73, 477, 74, 456, 74, 477, 75, 456, 75, 457, 75, 476, 76, 457, 76, 458, 76, 475, 76, 476, 77, 458, 77, 459, 77, 473, 77, 474, 78, 459, 78, 460, 78, 471, 78, 472, 78, 473, 79, 461, 79, 462, 79, 463, 79, 464, 79, 465, 79, 466, 79, 467, 79, 468, 79, 469, 79, 470], 'iscrowd': 0}, {'id': '7', 'image_id': '3', 'category_id': 1, 'bbox': [234, 522, 36, 36], 'area': 80, 'segmentation': [527, 251, 527, 252, 527, 253, 527, 254, 528, 248, 528, 249, 528, 250, 528, 255, 528, 256, 529, 246, 529, 247, 529, 257, 529, 258, 530, 244, 530, 245, 530, 259, 530, 260, 531, 243, 531, 244, 531, 260, 531, 261, 532, 242, 532, 243, 532, 261, 532, 262, 533, 242, 533, 262, 534, 241, 534, 263, 535, 241, 535, 263, 536, 240, 536, 264, 537, 240, 537, 264, 538, 239, 538, 264, 539, 239, 539, 264, 540, 239, 540, 264, 541, 239, 541, 264, 542, 239, 542, 264, 543, 239, 543, 264, 544, 240, 544, 263, 545, 240, 545, 263, 546, 241, 546, 263, 547, 241, 547, 262, 548, 242, 548, 261, 548, 262, 549, 242, 549, 243, 549, 260, 549, 261, 550, 243, 550, 244, 550, 259, 550, 260, 551, 245, 551, 246, 551, 257, 551, 258, 552, 247, 552, 248, 552, 249, 552, 250, 552, 251, 552, 252, 552, 253, 552, 254, 552, 255, 552, 256], 'iscrowd': 0}, {'id': '8', 'image_id': '5', 'category_id': 1, 'bbox': [603, 582, 29, 20], 'area': 63, 'segmentation': [585, 615, 585, 616, 585, 617, 585, 618, 585, 619, 585, 620, 585, 621, 585, 622, 585, 623, 586, 612, 586, 613, 586, 614, 586, 624, 586, 625, 586, 626, 587, 610, 587, 611, 587, 627, 587, 628, 588, 608, 588, 609, 588, 628, 588, 629, 589, 607, 589, 608, 589, 629, 589, 630, 590, 606, 590, 607, 590, 630, 591, 606, 591, 630, 592, 605, 592, 630, 593, 605, 593, 629, 594, 605, 594, 628, 594, 629, 595, 606, 595, 627, 595, 628, 596, 607, 596, 608, 596, 625, 596, 626, 597, 608, 597, 609, 597, 610, 597, 611, 597, 620, 597, 621, 597, 622, 597, 623, 597, 624, 598, 612, 598, 613, 598, 614, 598, 615, 598, 616, 598, 617, 598, 618, 598, 619], 'iscrowd': 0}, {'id': '9', 'image_id': '6', 'category_id': 1, 'bbox': [598, 571, 32, 18], 'area': 66, 'segmentation': [573, 608, 573, 609, 573, 610, 573, 611, 573, 612, 573, 613, 573, 614, 574, 604, 574, 605, 574, 606, 574, 607, 574, 615, 574, 616, 574, 617, 574, 618, 574, 619, 575, 602, 575, 603, 575, 620, 575, 621, 576, 601, 576, 602, 576, 622, 576, 623, 577, 600, 577, 601, 577, 624, 577, 625, 578, 600, 578, 626, 578, 627, 579, 600, 579, 627, 580, 600, 580, 628, 581, 601, 581, 628, 582, 602, 582, 603, 582, 628, 583, 603, 583, 604, 583, 627, 584, 605, 584, 606, 584, 607, 584, 608, 584, 625, 584, 626, 584, 627, 585, 609, 585, 610, 585, 611, 585, 612, 585, 613, 585, 614, 585, 615, 585, 616, 585, 617, 585, 618, 585, 619, 585, 620, 585, 621, 585, 622, 585, 623, 585, 624], 'iscrowd': 0}, {'id': '10', 'image_id': '6', 'category_id': 1, 'bbox': [360, 152, 37, 35], 'area': 83, 'segmentation': [156, 374, 156, 375, 156, 376, 156, 377, 156, 378, 156, 379, 156, 380, 157, 372, 157, 373, 157, 381, 157, 382, 158, 370, 158, 371, 158, 383, 158, 384, 159, 369, 159, 370, 159, 384, 159, 385, 160, 369, 160, 385, 160, 386, 161, 368, 161, 386, 161, 387, 162, 368, 162, 387, 162, 388, 163, 367, 163, 388, 164, 367, 164, 389, 165, 367, 165, 389, 166, 366, 166, 389, 167, 366, 167, 390, 168, 366, 168, 390, 169, 366, 169, 390, 170, 367, 170, 390, 171, 367, 171, 390, 172, 367, 172, 390, 173, 368, 173, 390, 174, 368, 174, 390, 175, 369, 175, 390, 176, 369, 176, 390, 177, 370, 177, 389, 178, 370, 178, 371, 178, 389, 179, 371, 179, 372, 179, 388, 180, 372, 180, 373, 180, 387, 180, 388, 181, 373, 181, 374, 181, 386, 181, 387, 182, 375, 182, 376, 182, 377, 182, 378, 182, 379, 182, 380, 182, 381, 182, 382, 182, 383, 182, 384, 182, 385], 'iscrowd': 0}, {'id': '11', 'image_id': '6', 'category_id': 1, 'bbox': [337, 481, 12, 6], 'area': 24, 'segmentation': [480, 340, 480, 341, 481, 339, 481, 342, 481, 343, 482, 339, 482, 343, 482, 344, 483, 339, 483, 340, 483, 344, 483, 345, 484, 340, 484, 341, 484, 345, 484, 346, 485, 341, 485, 342, 485, 346, 486, 342, 486, 343, 486, 344, 486, 345, 486, 346], 'iscrowd': 0}, {'id': '12', 'image_id': '8', 'category_id': 1, 'bbox': [409, 586, 36, 27], 'area': 82, 'segmentation': [586, 431, 586, 432, 586, 433, 586, 434, 586, 435, 587, 429, 587, 430, 587, 436, 587, 437, 588, 427, 588, 428, 588, 437, 588, 438, 589, 425, 589, 426, 589, 438, 590, 424, 590, 425, 590, 438, 591, 423, 591, 424, 591, 439, 592, 422, 592, 423, 592, 439, 593, 421, 593, 422, 593, 439, 594, 420, 594, 421, 594, 439, 595, 420, 595, 438, 596, 419, 596, 438, 597, 418, 597, 419, 597, 438, 598, 418, 598, 438, 599, 417, 599, 437, 600, 417, 600, 437, 601, 416, 601, 436, 602, 416, 602, 436, 603, 416, 603, 435, 604, 415, 604, 434, 604, 435, 605, 415, 605, 433, 605, 434, 606, 415, 606, 432, 606, 433, 607, 415, 607, 431, 607, 432, 608, 415, 608, 430, 608, 431, 609, 416, 609, 429, 609, 430, 610, 416, 610, 428, 610, 429, 611, 417, 611, 426, 611, 427, 612, 418, 612, 419, 612, 420, 612, 421, 612, 422, 612, 423, 612, 424, 612, 425], 'iscrowd': 0}, {'id': '13', 'image_id': '8', 'category_id': 1, 'bbox': [72, 204, 31, 22], 'area': 70, 'segmentation': [207, 80, 207, 81, 207, 82, 207, 83, 207, 84, 207, 85, 207, 86, 208, 78, 208, 79, 208, 87, 208, 88, 208, 89, 209, 76, 209, 77, 209, 90, 209, 91, 209, 92, 210, 75, 210, 76, 210, 93, 210, 94, 211, 75, 211, 94, 211, 95, 212, 74, 212, 96, 212, 97, 213, 74, 213, 97, 213, 98, 214, 75, 214, 98, 214, 99, 215, 75, 215, 99, 215, 100, 216, 76, 216, 100, 217, 76, 217, 77, 217, 100, 218, 77, 218, 78, 218, 100, 219, 79, 219, 80, 219, 100, 220, 80, 220, 81, 220, 100, 221, 82, 221, 83, 221, 84, 221, 99, 221, 100, 222, 85, 222, 86, 222, 87, 222, 88, 222, 97, 222, 98, 222, 99, 223, 89, 223, 90, 223, 91, 223, 92, 223, 93, 223, 94, 223, 95, 223, 96], 'iscrowd': 0}, {'id': '14', 'image_id': '9', 'category_id': 1, 'bbox': [378, 30, 30, 20], 'area': 66, 'segmentation': [29, 386, 29, 387, 29, 388, 29, 389, 29, 390, 30, 385, 30, 391, 30, 392, 31, 384, 31, 393, 31, 394, 32, 384, 32, 394, 32, 395, 33, 383, 33, 395, 33, 396, 34, 383, 34, 396, 34, 397, 35, 384, 35, 397, 35, 398, 36, 384, 36, 398, 37, 384, 37, 399, 38, 385, 38, 399, 38, 400, 39, 385, 39, 400, 40, 385, 40, 401, 41, 386, 41, 401, 42, 386, 42, 387, 42, 401, 43, 387, 43, 402, 44, 388, 44, 402, 45, 388, 45, 389, 45, 402, 46, 389, 46, 390, 46, 402, 47, 390, 47, 391, 47, 402, 48, 391, 48, 392, 48, 402, 49, 392, 49, 393, 49, 394, 49, 395, 49, 396, 49, 397, 49, 398, 49, 399, 49, 400, 49, 401, 49, 402], 'iscrowd': 0}, {'id': '15', 'image_id': '10', 'category_id': 1, 'bbox': [380, 93, 42, 39], 'area': 96, 'segmentation': [99, 401, 99, 402, 99, 403, 99, 404, 99, 405, 99, 406, 99, 407, 99, 408, 100, 398, 100, 399, 100, 400, 100, 409, 100, 410, 100, 411, 101, 396, 101, 397, 101, 412, 101, 413, 102, 394, 102, 395, 102, 413, 102, 414, 103, 392, 103, 393, 103, 414, 103, 415, 104, 391, 104, 392, 104, 415, 104, 416, 105, 389, 105, 390, 105, 416, 106, 389, 106, 416, 107, 388, 107, 417, 108, 387, 108, 388, 108, 417, 109, 387, 109, 417, 110, 386, 110, 417, 111, 386, 111, 417, 112, 385, 112, 417, 113, 385, 113, 416, 114, 385, 114, 416, 115, 384, 115, 416, 116, 385, 116, 415, 117, 385, 117, 414, 117, 415, 118, 385, 118, 413, 118, 414, 119, 386, 119, 412, 119, 413, 120, 386, 120, 411, 120, 412, 121, 387, 121, 410, 121, 411, 122, 387, 122, 388, 122, 409, 122, 410, 123, 388, 123, 389, 123, 406, 123, 407, 123, 408, 124, 390, 124, 391, 124, 392, 124, 403, 124, 404, 124, 405, 125, 393, 125, 394, 125, 395, 125, 396, 125, 397, 125, 398, 125, 399, 125, 400, 125, 401, 125, 402], 'iscrowd': 0}, {'id': '16', 'image_id': '10', 'category_id': 1, 'bbox': [347, 395, 28, 10], 'area': 34, 'segmentation': [394, 362, 394, 363, 394, 364, 394, 365, 394, 366, 394, 367, 395, 360, 395, 361, 396, 359, 396, 360, 396, 367, 397, 359, 397, 366, 398, 358, 398, 366, 399, 358, 399, 365, 400, 357, 400, 365, 401, 357, 401, 365, 402, 356, 402, 364, 403, 356, 403, 363, 403, 364, 404, 356, 404, 357, 404, 358, 404, 359, 404, 360, 404, 361, 404, 362, 404, 363], 'iscrowd': 0}, {'id': '17', 'image_id': '10', 'category_id': 1, 'bbox': [41, 337, 33, 20], 'area': 71, 'segmentation': [340, 53, 340, 54, 340, 55, 340, 56, 340, 57, 340, 58, 340, 59, 340, 60, 340, 61, 340, 62, 340, 63, 341, 50, 341, 51, 341, 52, 341, 64, 341, 65, 341, 66, 342, 48, 342, 49, 342, 67, 342, 68, 343, 46, 343, 47, 343, 69, 343, 70, 344, 44, 344, 45, 344, 71, 345, 44, 345, 72, 346, 43, 346, 72, 347, 43, 347, 72, 348, 43, 348, 72, 349, 43, 349, 44, 349, 71, 349, 72, 350, 44, 350, 45, 350, 70, 350, 71, 351, 45, 351, 46, 351, 69, 351, 70, 352, 46, 352, 47, 352, 48, 352, 66, 352, 67, 352, 68, 353, 49, 353, 50, 353, 51, 353, 52, 353, 53, 353, 54, 353, 55, 353, 56, 353, 57, 353, 58, 353, 59, 353, 60, 353, 61, 353, 62, 353, 63, 353, 64, 353, 65], 'iscrowd': 0}, {'id': '18', 'image_id': '11', 'category_id': 1, 'bbox': [439, 396, 12, 7], 'area': 21, 'segmentation': [397, 444, 397, 445, 397, 446, 397, 447, 397, 448, 398, 442, 398, 443, 398, 449, 399, 441, 399, 449, 400, 441, 400, 449, 401, 441, 401, 442, 401, 443, 401, 444, 401, 445, 401, 446, 401, 447, 401, 448, 401, 449], 'iscrowd': 0}, {'id': '19', 'image_id': '12', 'category_id': 1, 'bbox': [47, 538, 39, 38], 'area': 90, 'segmentation': [543, 64, 543, 65, 544, 61, 544, 62, 544, 63, 544, 66, 544, 67, 544, 68, 544, 69, 545, 59, 545, 60, 545, 70, 545, 71, 546, 57, 546, 58, 546, 72, 546, 73, 547, 56, 547, 57, 547, 74, 547, 75, 548, 55, 548, 56, 548, 75, 548, 76, 549, 54, 549, 55, 549, 76, 549, 77, 550, 54, 550, 77, 550, 78, 551, 53, 551, 78, 552, 53, 552, 79, 553, 52, 553, 79, 554, 52, 554, 79, 555, 52, 555, 80, 556, 52, 556, 80, 557, 52, 557, 80, 558, 53, 558, 80, 559, 53, 559, 80, 560, 53, 560, 80, 561, 54, 561, 80, 562, 54, 562, 55, 562, 80, 563, 55, 563, 80, 564, 56, 564, 79, 565, 56, 565, 57, 565, 78, 565, 79, 566, 57, 566, 58, 566, 77, 566, 78, 567, 59, 567, 60, 567, 76, 567, 77, 568, 60, 568, 61, 568, 62, 568, 75, 568, 76, 569, 63, 569, 64, 569, 65, 569, 66, 569, 67, 569, 68, 569, 69, 569, 70, 569, 71, 569, 72, 569, 73, 569, 74], 'iscrowd': 0}, {'id': '20', 'image_id': '13', 'category_id': 1, 'bbox': [610, 134, 27, 6], 'area': 17, 'segmentation': [133, 621, 133, 622, 133, 623, 134, 621, 134, 624, 135, 621, 135, 624, 136, 621, 136, 624, 137, 621, 137, 625, 138, 621, 138, 625, 139, 622, 139, 623, 139, 624, 139, 625], 'iscrowd': 0}, {'id': '21', 'image_id': '13', 'category_id': 1, 'bbox': [93, 507, 36, 27], 'area': 76, 'segmentation': [506, 110, 506, 111, 506, 112, 506, 113, 506, 114, 506, 115, 507, 108, 507, 109, 507, 116, 507, 117, 508, 107, 508, 108, 508, 117, 508, 118, 509, 106, 509, 107, 509, 118, 510, 105, 510, 106, 510, 118, 511, 105, 511, 119, 512, 104, 512, 119, 513, 104, 513, 119, 514, 103, 514, 119, 515, 103, 515, 119, 516, 103, 516, 119, 517, 102, 517, 119, 518, 102, 518, 119, 519, 102, 519, 119, 520, 101, 520, 119, 521, 101, 521, 119, 522, 101, 522, 119, 523, 101, 523, 119, 524, 101, 524, 118, 525, 101, 525, 118, 526, 101, 526, 118, 527, 101, 527, 117, 528, 101, 528, 117, 529, 102, 529, 116, 530, 102, 530, 116, 531, 103, 531, 115, 532, 103, 532, 114, 532, 115, 533, 104, 533, 105, 533, 106, 533, 107, 533, 108, 533, 109, 533, 110, 533, 111, 533, 112, 533, 113, 533, 114], 'iscrowd': 0}, {'id': '22', 'image_id': '16', 'category_id': 1, 'bbox': [81, 121, 49, 49], 'area': 111, 'segmentation': [128, 102, 128, 103, 128, 104, 128, 105, 128, 106, 128, 107, 128, 108, 129, 100, 129, 101, 129, 109, 129, 110, 129, 111, 130, 98, 130, 99, 130, 112, 130, 113, 131, 96, 131, 97, 131, 114, 131, 115, 132, 94, 132, 95, 132, 115, 132, 116, 133, 93, 133, 94, 133, 116, 133, 117, 134, 93, 134, 117, 134, 118, 135, 92, 135, 118, 135, 119, 136, 91, 136, 92, 136, 119, 137, 91, 137, 120, 138, 90, 138, 120, 139, 90, 139, 121, 140, 89, 140, 121, 141, 89, 141, 121, 142, 89, 142, 121, 143, 89, 143, 122, 144, 89, 144, 122, 145, 88, 145, 122, 146, 88, 146, 122, 147, 89, 147, 122, 148, 89, 148, 122, 149, 89, 149, 122, 150, 89, 150, 121, 151, 90, 151, 121, 152, 90, 152, 121, 153, 91, 153, 120, 154, 91, 154, 120, 155, 92, 155, 119, 155, 120, 156, 92, 156, 93, 156, 118, 156, 119, 157, 93, 157, 94, 157, 117, 157, 118, 158, 94, 158, 95, 158, 116, 158, 117, 159, 95, 159, 96, 159, 115, 159, 116, 160, 97, 160, 98, 160, 114, 160, 115, 161, 99, 161, 100, 161, 111, 161, 112, 161, 113, 162, 101, 162, 102, 162, 103, 162, 104, 162, 105, 162, 106, 162, 107, 162, 108, 162, 109, 162, 110], 'iscrowd': 0}, {'id': '23', 'image_id': '16', 'category_id': 1, 'bbox': [53, 87, 35, 33], 'area': 80, 'segmentation': [90, 70, 90, 71, 91, 67, 91, 68, 91, 69, 91, 72, 91, 73, 91, 74, 92, 65, 92, 66, 92, 75, 92, 76, 93, 64, 93, 65, 93, 76, 93, 77, 94, 63, 94, 64, 94, 77, 94, 78, 95, 62, 95, 63, 95, 78, 95, 79, 96, 62, 96, 79, 97, 61, 97, 80, 98, 61, 98, 80, 99, 60, 99, 80, 100, 60, 100, 81, 101, 60, 101, 81, 102, 59, 102, 81, 103, 59, 103, 81, 104, 59, 104, 81, 105, 59, 105, 81, 106, 60, 106, 81, 107, 60, 107, 81, 108, 60, 108, 80, 109, 61, 109, 80, 110, 61, 110, 80, 111, 62, 111, 79, 112, 62, 112, 63, 112, 78, 112, 79, 113, 63, 113, 64, 113, 77, 113, 78, 114, 64, 114, 65, 114, 76, 114, 77, 115, 65, 115, 66, 115, 75, 115, 76, 116, 67, 116, 68, 116, 69, 116, 70, 116, 71, 116, 72, 116, 73, 116, 74], 'iscrowd': 0}, {'id': '24', 'image_id': '17', 'category_id': 1, 'bbox': [298, 613, 34, 11], 'area': 34, 'segmentation': [612, 315, 612, 316, 612, 317, 612, 318, 612, 319, 613, 313, 613, 314, 613, 320, 614, 313, 614, 320, 615, 312, 615, 320, 616, 312, 616, 320, 617, 312, 617, 320, 618, 311, 618, 319, 619, 311, 619, 319, 620, 311, 620, 319, 621, 310, 621, 318, 622, 310, 622, 318, 623, 310, 623, 312, 623, 313, 623, 314, 623, 315, 623, 316, 623, 317, 623, 318], 'iscrowd': 0}, {'id': '25', 'image_id': '17', 'category_id': 1, 'bbox': [141, 249, 40, 29], 'area': 92, 'segmentation': [252, 155, 253, 150, 253, 151, 253, 152, 253, 153, 253, 154, 253, 156, 253, 157, 253, 158, 253, 159, 253, 160, 253, 161, 254, 148, 254, 149, 254, 162, 254, 163, 254, 164, 255, 146, 255, 147, 255, 165, 255, 166, 255, 167, 256, 145, 256, 146, 256, 168, 256, 169, 257, 145, 257, 170, 257, 171, 258, 144, 258, 171, 258, 172, 259, 144, 259, 173, 259, 174, 260, 143, 260, 174, 260, 175, 261, 144, 261, 175, 261, 176, 262, 144, 262, 176, 262, 177, 263, 145, 263, 177, 264, 145, 264, 146, 264, 177, 265, 146, 265, 147, 265, 178, 266, 147, 266, 148, 266, 178, 267, 148, 267, 149, 267, 178, 268, 149, 268, 150, 268, 178, 269, 150, 269, 151, 269, 178, 270, 152, 270, 153, 270, 177, 271, 154, 271, 155, 271, 156, 271, 176, 271, 177, 272, 157, 272, 158, 272, 159, 272, 160, 272, 174, 272, 175, 272, 176, 273, 161, 273, 162, 273, 163, 273, 164, 273, 165, 273, 166, 273, 167, 273, 168, 273, 169, 273, 170, 273, 171, 273, 172, 273, 173], 'iscrowd': 0}, {'id': '26', 'image_id': '18', 'category_id': 1, 'bbox': [25, 289, 20, 7], 'area': 36, 'segmentation': [288, 28, 288, 29, 288, 30, 289, 27, 289, 31, 289, 32, 289, 33, 289, 34, 290, 27, 290, 35, 290, 36, 291, 27, 291, 28, 291, 37, 291, 38, 292, 28, 292, 29, 292, 39, 292, 40, 293, 30, 293, 31, 293, 41, 293, 42, 294, 31, 294, 32, 294, 33, 294, 42, 294, 43, 295, 34, 295, 35, 295, 36, 295, 37, 295, 38, 295, 39, 295, 40, 295, 41], 'iscrowd': 0}, {'id': '27', 'image_id': '18', 'category_id': 1, 'bbox': [351, 465, 42, 38], 'area': 97, 'segmentation': [467, 370, 467, 371, 467, 372, 467, 373, 467, 374, 467, 375, 468, 368, 468, 369, 468, 376, 468, 377, 469, 366, 469, 367, 469, 377, 469, 378, 470, 365, 470, 366, 470, 378, 470, 379, 471, 364, 471, 365, 471, 379, 471, 380, 472, 363, 472, 364, 472, 380, 472, 381, 473, 363, 473, 381, 474, 362, 474, 382, 475, 362, 475, 382, 476, 361, 476, 383, 477, 361, 477, 383, 478, 360, 478, 383, 479, 360, 479, 383, 480, 360, 480, 383, 481, 360, 481, 384, 482, 359, 482, 384, 483, 359, 483, 384, 484, 359, 484, 384, 485, 359, 485, 384, 486, 359, 486, 384, 487, 359, 487, 383, 488, 360, 488, 383, 489, 360, 489, 383, 490, 360, 490, 383, 491, 360, 491, 383, 492, 361, 492, 382, 493, 361, 493, 382, 494, 362, 494, 381, 494, 382, 495, 362, 495, 363, 495, 381, 496, 363, 496, 380, 497, 364, 497, 379, 497, 380, 498, 364, 498, 365, 498, 378, 498, 379, 499, 365, 499, 366, 499, 377, 499, 378, 500, 367, 500, 368, 500, 369, 500, 370, 500, 371, 500, 372, 500, 373, 500, 374, 500, 375, 500, 376], 'iscrowd': 0}, {'id': '28', 'image_id': '18', 'category_id': 1, 'bbox': [599, 502, 29, 11], 'area': 34, 'segmentation': [501, 613, 501, 614, 501, 615, 501, 616, 501, 617, 501, 618, 502, 612, 502, 619, 503, 611, 503, 619, 504, 611, 504, 619, 505, 610, 505, 619, 506, 610, 506, 618, 507, 609, 507, 618, 508, 609, 508, 617, 509, 609, 509, 617, 510, 608, 510, 617, 511, 608, 511, 616, 512, 608, 512, 610, 512, 611, 512, 612, 512, 613, 512, 614, 512, 615, 512, 616], 'iscrowd': 0}, {'id': '29', 'image_id': '19', 'category_id': 1, 'bbox': [254, 143, 33, 32], 'area': 74, 'segmentation': [147, 270, 147, 271, 147, 272, 147, 273, 147, 274, 147, 275, 148, 268, 148, 269, 148, 276, 148, 277, 149, 266, 149, 267, 149, 278, 149, 279, 150, 264, 150, 265, 150, 279, 150, 280, 151, 263, 151, 264, 151, 280, 152, 263, 152, 281, 153, 262, 153, 281, 154, 261, 154, 262, 154, 281, 155, 261, 155, 281, 156, 260, 156, 281, 157, 260, 157, 281, 158, 259, 158, 281, 159, 259, 159, 281, 160, 259, 160, 281, 161, 259, 161, 280, 162, 259, 162, 280, 163, 259, 163, 280, 164, 259, 164, 279, 165, 260, 165, 278, 165, 279, 166, 260, 166, 277, 166, 278, 167, 261, 167, 276, 167, 277, 168, 261, 168, 262, 168, 275, 168, 276, 169, 262, 169, 263, 169, 273, 169, 274, 170, 264, 170, 265, 170, 266, 170, 267, 170, 268, 170, 269, 170, 270, 170, 271, 170, 272], 'iscrowd': 0}, {'id': '30', 'image_id': '19', 'category_id': 1, 'bbox': [161, 209, 34, 27], 'area': 79, 'segmentation': [211, 171, 211, 172, 211, 173, 211, 174, 212, 169, 212, 170, 212, 175, 212, 176, 212, 177, 213, 167, 213, 168, 213, 178, 213, 179, 214, 167, 214, 180, 214, 181, 215, 166, 215, 182, 215, 183, 216, 166, 216, 183, 216, 184, 217, 166, 217, 184, 217, 185, 218, 165, 218, 185, 218, 186, 219, 166, 219, 186, 219, 187, 220, 166, 220, 187, 220, 188, 221, 166, 221, 188, 222, 167, 222, 189, 223, 167, 223, 189, 224, 168, 224, 190, 225, 168, 225, 169, 225, 190, 226, 169, 226, 170, 226, 190, 227, 170, 227, 171, 227, 190, 228, 171, 228, 172, 228, 190, 229, 172, 229, 173, 229, 190, 230, 173, 230, 174, 230, 190, 231, 174, 231, 175, 231, 190, 232, 176, 232, 177, 232, 189, 232, 190, 233, 178, 233, 179, 233, 180, 233, 181, 233, 187, 233, 188, 233, 189, 234, 182, 234, 183, 234, 184, 234, 185, 234, 186], 'iscrowd': 0}, {'id': '31', 'image_id': '20', 'category_id': 1, 'bbox': [68, 331, 39, 27], 'area': 75, 'segmentation': [330, 84, 330, 85, 330, 86, 330, 87, 330, 88, 330, 89, 330, 90, 330, 91, 331, 82, 331, 83, 331, 92, 331, 93, 332, 82, 332, 93, 333, 81, 333, 94, 334, 81, 334, 94, 335, 80, 335, 95, 336, 80, 336, 95, 337, 80, 337, 95, 338, 79, 338, 95, 339, 79, 339, 95, 340, 79, 340, 96, 341, 79, 341, 96, 342, 79, 342, 96, 343, 79, 343, 96, 344, 78, 344, 96, 345, 78, 345, 96, 346, 79, 346, 96, 347, 79, 347, 96, 348, 79, 348, 96, 349, 79, 349, 96, 350, 79, 350, 96, 351, 79, 351, 95, 352, 80, 352, 95, 353, 80, 353, 95, 354, 80, 354, 95, 355, 81, 355, 95, 356, 81, 356, 94, 357, 82, 357, 83, 357, 84, 357, 85, 357, 86, 357, 87, 357, 88, 357, 89, 357, 90, 357, 91, 357, 92, 357, 93, 357, 94], 'iscrowd': 0}, {'id': '32', 'image_id': '20', 'category_id': 1, 'bbox': [515, 440, 31, 29], 'area': 69, 'segmentation': [445, 528, 445, 529, 445, 530, 445, 531, 445, 532, 445, 533, 445, 534, 445, 535, 446, 526, 446, 527, 446, 536, 446, 537, 447, 524, 447, 525, 447, 538, 447, 539, 448, 523, 448, 524, 448, 539, 448, 540, 449, 521, 449, 522, 449, 540, 449, 541, 450, 521, 450, 541, 451, 520, 451, 541, 452, 520, 452, 542, 453, 519, 453, 542, 454, 519, 454, 542, 455, 518, 455, 542, 456, 518, 456, 542, 457, 519, 457, 541, 458, 519, 458, 541, 459, 520, 459, 540, 460, 520, 460, 521, 460, 539, 460, 540, 461, 521, 461, 522, 461, 538, 461, 539, 462, 522, 462, 523, 462, 536, 462, 537, 463, 524, 463, 525, 463, 526, 463, 533, 463, 534, 463, 535, 463, 536, 464, 527, 464, 528, 464, 529, 464, 530, 464, 531, 464, 532], 'iscrowd': 0}, {'id': '33', 'image_id': '20', 'category_id': 1, 'bbox': [100, 499, 35, 26], 'area': 77, 'segmentation': [498, 111, 498, 112, 498, 113, 498, 114, 499, 109, 499, 110, 499, 115, 499, 116, 500, 109, 500, 117, 500, 118, 501, 108, 501, 118, 501, 119, 502, 108, 502, 120, 502, 121, 503, 107, 503, 121, 504, 107, 504, 122, 505, 107, 505, 122, 505, 123, 506, 107, 506, 123, 506, 124, 507, 107, 507, 124, 508, 107, 508, 125, 509, 107, 509, 125, 510, 108, 510, 126, 511, 108, 511, 126, 512, 108, 512, 126, 513, 109, 513, 127, 514, 109, 514, 127, 515, 110, 515, 127, 516, 110, 516, 111, 516, 127, 517, 111, 517, 127, 518, 112, 518, 127, 519, 112, 519, 113, 519, 127, 520, 113, 520, 114, 520, 127, 521, 114, 521, 115, 521, 127, 522, 115, 522, 116, 522, 127, 523, 116, 523, 117, 523, 127, 524, 117, 524, 118, 524, 119, 524, 120, 524, 121, 524, 122, 524, 123, 524, 124, 524, 125, 524, 126], 'iscrowd': 0}, {'id': '34', 'image_id': '21', 'category_id': 1, 'bbox': [399, 158, 40, 40], 'area': 89, 'segmentation': [164, 416, 164, 417, 164, 418, 164, 419, 164, 420, 164, 421, 164, 422, 165, 414, 165, 415, 165, 423, 165, 424, 166, 412, 166, 413, 166, 425, 166, 426, 167, 410, 167, 411, 167, 427, 167, 428, 168, 409, 168, 410, 168, 428, 168, 429, 169, 408, 169, 409, 169, 429, 169, 430, 170, 408, 170, 430, 171, 407, 171, 431, 172, 407, 172, 431, 173, 406, 173, 432, 174, 406, 174, 432, 175, 405, 175, 432, 176, 405, 176, 432, 177, 405, 177, 432, 178, 405, 178, 432, 179, 405, 179, 432, 180, 405, 180, 432, 181, 406, 181, 432, 182, 406, 182, 432, 183, 406, 183, 432, 184, 407, 184, 432, 185, 407, 185, 408, 185, 431, 186, 408, 186, 430, 186, 431, 187, 409, 187, 429, 187, 430, 188, 409, 188, 410, 188, 428, 188, 429, 189, 411, 189, 412, 189, 427, 189, 428, 190, 412, 190, 413, 190, 425, 190, 426, 191, 414, 191, 415, 191, 416, 191, 417, 191, 418, 191, 419, 191, 420, 191, 421, 191, 422, 191, 423, 191, 424], 'iscrowd': 0}, {'id': '35', 'image_id': '21', 'category_id': 1, 'bbox': [344, 307, 31, 23], 'area': 67, 'segmentation': [311, 357, 311, 358, 311, 359, 311, 360, 311, 361, 311, 362, 311, 363, 311, 364, 311, 365, 312, 354, 312, 355, 312, 356, 312, 366, 312, 367, 312, 368, 313, 352, 313, 353, 313, 369, 313, 370, 314, 350, 314, 351, 314, 371, 314, 372, 315, 348, 315, 349, 315, 372, 316, 347, 316, 348, 316, 373, 317, 347, 317, 373, 318, 346, 318, 373, 319, 346, 319, 373, 320, 346, 320, 373, 321, 346, 321, 372, 322, 347, 322, 371, 322, 372, 323, 347, 323, 348, 323, 369, 323, 370, 324, 349, 324, 350, 324, 367, 324, 368, 324, 369, 325, 351, 325, 352, 325, 353, 325, 354, 325, 363, 325, 364, 325, 365, 325, 366, 326, 355, 326, 356, 326, 357, 326, 358, 326, 359, 326, 360, 326, 361, 326, 362], 'iscrowd': 0}, {'id': '36', 'image_id': '22', 'category_id': 1, 'bbox': [612, 415, 22, 21], 'area': 49, 'segmentation': [418, 620, 418, 621, 418, 622, 418, 623, 418, 624, 419, 618, 419, 619, 419, 625, 419, 626, 420, 617, 420, 618, 420, 627, 420, 628, 421, 617, 421, 628, 421, 629, 422, 616, 422, 629, 423, 616, 423, 630, 424, 616, 424, 630, 425, 616, 425, 630, 426, 616, 426, 630, 427, 616, 427, 630, 428, 617, 428, 630, 429, 617, 429, 618, 429, 630, 430, 618, 430, 619, 430, 629, 430, 630, 431, 619, 431, 620, 431, 628, 431, 629, 432, 621, 432, 622, 432, 623, 432, 624, 432, 625, 432, 626, 432, 627, 432, 628], 'iscrowd': 0}, {'id': '37', 'image_id': '22', 'category_id': 1, 'bbox': [468, 266, 49, 48], 'area': 108, 'segmentation': [274, 490, 274, 491, 274, 492, 274, 493, 274, 494, 274, 495, 274, 496, 274, 497, 274, 498, 275, 487, 275, 488, 275, 489, 275, 499, 275, 500, 276, 485, 276, 486, 276, 501, 276, 502, 277, 483, 277, 484, 277, 503, 277, 504, 278, 482, 278, 483, 278, 504, 278, 505, 279, 480, 279, 481, 279, 505, 279, 506, 280, 479, 280, 480, 280, 506, 280, 507, 281, 479, 281, 507, 281, 508, 282, 478, 282, 508, 283, 477, 283, 478, 283, 509, 284, 477, 284, 509, 285, 476, 285, 509, 286, 476, 286, 509, 287, 475, 287, 509, 288, 475, 288, 509, 289, 475, 289, 509, 290, 475, 290, 509, 291, 475, 291, 509, 292, 475, 292, 509, 293, 475, 293, 509, 294, 475, 294, 509, 295, 475, 295, 509, 296, 476, 296, 508, 297, 476, 297, 507, 297, 508, 298, 477, 298, 507, 299, 477, 299, 478, 299, 506, 300, 478, 300, 505, 300, 506, 301, 479, 301, 504, 301, 505, 302, 480, 302, 481, 302, 502, 302, 503, 303, 481, 303, 482, 303, 501, 303, 502, 304, 483, 304, 484, 304, 498, 304, 499, 304, 500, 305, 485, 305, 486, 305, 487, 305, 488, 305, 489, 305, 490, 305, 491, 305, 492, 305, 493, 305, 494, 305, 495, 305, 496, 305, 497], 'iscrowd': 0}, {'id': '38', 'image_id': '23', 'category_id': 1, 'bbox': [158, 398, 30, 22], 'area': 66, 'segmentation': [402, 169, 402, 170, 402, 171, 402, 172, 402, 173, 402, 174, 402, 175, 402, 176, 402, 177, 402, 178, 402, 179, 403, 167, 403, 168, 403, 180, 403, 181, 404, 165, 404, 166, 404, 182, 404, 183, 405, 163, 405, 164, 405, 183, 405, 184, 406, 162, 406, 163, 406, 184, 406, 185, 407, 161, 407, 162, 407, 185, 408, 161, 408, 185, 409, 160, 409, 185, 410, 160, 410, 185, 411, 161, 411, 185, 412, 161, 412, 184, 412, 185, 413, 162, 413, 183, 413, 184, 414, 163, 414, 164, 414, 181, 414, 182, 414, 183, 415, 164, 415, 165, 415, 166, 415, 167, 415, 178, 415, 179, 415, 180, 416, 168, 416, 169, 416, 170, 416, 171, 416, 172, 416, 173, 416, 174, 416, 175, 416, 176, 416, 177], 'iscrowd': 0}, {'id': '39', 'image_id': '24', 'category_id': 1, 'bbox': [285, 118, 14, 8], 'area': 26, 'segmentation': [117, 288, 117, 289, 117, 290, 118, 288, 118, 291, 118, 292, 119, 288, 119, 292, 119, 293, 120, 288, 120, 293, 120, 294, 121, 289, 121, 294, 122, 289, 122, 295, 123, 290, 123, 295, 124, 290, 124, 291, 124, 295, 125, 291, 125, 292, 125, 293, 125, 294, 125, 295], 'iscrowd': 0}, {'id': '40', 'image_id': '24', 'category_id': 1, 'bbox': [574, 280, 38, 31], 'area': 83, 'segmentation': [279, 593, 279, 594, 279, 595, 279, 596, 280, 591, 280, 592, 280, 597, 280, 598, 281, 589, 281, 590, 281, 599, 281, 600, 282, 588, 282, 589, 282, 600, 283, 587, 283, 588, 283, 601, 284, 587, 284, 601, 285, 586, 285, 602, 286, 586, 286, 602, 287, 585, 287, 602, 288, 585, 288, 602, 289, 584, 289, 603, 290, 584, 290, 603, 291, 584, 291, 603, 292, 583, 292, 603, 293, 583, 293, 603, 294, 583, 294, 603, 295, 583, 295, 603, 296, 583, 296, 603, 297, 582, 297, 603, 298, 582, 298, 602, 299, 583, 299, 602, 300, 583, 300, 602, 301, 583, 301, 602, 302, 583, 302, 602, 303, 583, 303, 601, 304, 584, 304, 601, 305, 584, 305, 600, 306, 585, 306, 599, 306, 600, 307, 585, 307, 599, 308, 586, 308, 598, 309, 586, 309, 587, 309, 597, 309, 598, 310, 587, 310, 588, 310, 589, 310, 590, 310, 591, 310, 592, 310, 593, 310, 594, 310, 595, 310, 596], 'iscrowd': 0}, {'id': '41', 'image_id': '25', 'category_id': 1, 'bbox': [404, 258, 16, 15], 'area': 32, 'segmentation': [259, 412, 260, 410, 260, 411, 260, 413, 260, 414, 261, 409, 261, 410, 261, 415, 262, 408, 262, 409, 262, 416, 263, 408, 263, 416, 264, 407, 264, 416, 265, 407, 265, 416, 266, 407, 266, 416, 267, 407, 267, 416, 268, 408, 268, 416, 269, 408, 269, 415, 270, 409, 270, 414, 270, 415, 271, 410, 271, 411, 271, 412, 271, 413], 'iscrowd': 0}, {'id': '42', 'image_id': '25', 'category_id': 1, 'bbox': [390, 595, 45, 44], 'area': 104, 'segmentation': [600, 412, 600, 413, 600, 414, 600, 415, 600, 416, 601, 409, 601, 410, 601, 411, 601, 417, 601, 418, 601, 419, 602, 407, 602, 408, 602, 420, 602, 421, 603, 405, 603, 406, 603, 421, 603, 422, 604, 404, 604, 405, 604, 422, 604, 423, 605, 403, 605, 404, 605, 423, 605, 424, 606, 402, 606, 403, 606, 424, 606, 425, 607, 401, 607, 402, 607, 425, 608, 401, 608, 426, 609, 400, 609, 426, 610, 400, 610, 427, 611, 399, 611, 427, 612, 399, 612, 427, 613, 398, 613, 427, 614, 398, 614, 427, 615, 397, 615, 427, 616, 397, 616, 427, 617, 397, 617, 427, 618, 397, 618, 427, 619, 397, 619, 427, 620, 397, 620, 427, 621, 397, 621, 426, 622, 397, 622, 426, 623, 398, 623, 426, 624, 398, 624, 425, 625, 399, 625, 424, 625, 425, 626, 399, 626, 424, 627, 400, 627, 423, 628, 400, 628, 401, 628, 422, 628, 423, 629, 401, 629, 402, 629, 421, 629, 422, 630, 402, 630, 403, 630, 419, 630, 420, 631, 403, 631, 404, 631, 418, 631, 419, 632, 405, 632, 406, 632, 407, 632, 408, 632, 414, 632, 415, 632, 416, 632, 417, 633, 409, 633, 410, 633, 411, 633, 412, 633, 413], 'iscrowd': 0}, {'id': '43', 'image_id': '27', 'category_id': 1, 'bbox': [19, 224, 30, 30], 'area': 64, 'segmentation': [229, 31, 229, 32, 229, 33, 229, 34, 229, 35, 229, 36, 229, 37, 230, 29, 230, 30, 230, 38, 230, 39, 231, 28, 231, 29, 231, 40, 231, 41, 232, 27, 232, 41, 232, 42, 233, 26, 233, 42, 234, 25, 234, 26, 234, 43, 235, 25, 235, 43, 236, 24, 236, 43, 237, 24, 237, 44, 238, 24, 238, 44, 239, 23, 239, 44, 240, 24, 240, 44, 241, 24, 241, 44, 242, 24, 242, 43, 243, 25, 243, 43, 244, 25, 244, 43, 245, 26, 245, 42, 246, 26, 246, 27, 246, 41, 246, 42, 247, 27, 247, 28, 247, 40, 247, 41, 248, 29, 248, 30, 248, 31, 248, 37, 248, 38, 248, 39, 249, 32, 249, 33, 249, 34, 249, 35, 249, 36], 'iscrowd': 0}, {'id': '44', 'image_id': '30', 'category_id': 1, 'bbox': [384, 345, 27, 24], 'area': 60, 'segmentation': [348, 399, 348, 400, 348, 401, 348, 402, 349, 396, 349, 397, 349, 398, 349, 403, 349, 404, 350, 394, 350, 395, 350, 405, 350, 406, 351, 392, 351, 393, 351, 406, 352, 391, 352, 392, 352, 407, 353, 390, 353, 391, 353, 407, 354, 389, 354, 390, 354, 407, 355, 389, 355, 407, 356, 388, 356, 407, 357, 388, 357, 407, 358, 387, 358, 406, 359, 387, 359, 406, 360, 387, 360, 405, 360, 406, 361, 387, 361, 404, 361, 405, 362, 388, 362, 403, 362, 404, 363, 388, 363, 402, 363, 403, 364, 389, 364, 400, 364, 401, 365, 390, 365, 391, 365, 392, 365, 393, 365, 394, 365, 395, 365, 396, 365, 397, 365, 398, 365, 399], 'iscrowd': 0}, {'id': '45', 'image_id': '31', 'category_id': 1, 'bbox': [165, 437, 33, 17], 'area': 66, 'segmentation': [436, 184, 436, 185, 436, 186, 436, 187, 436, 188, 436, 189, 436, 190, 436, 191, 437, 182, 437, 183, 437, 192, 438, 181, 438, 182, 438, 192, 439, 179, 439, 180, 439, 192, 440, 178, 440, 179, 440, 191, 441, 177, 441, 178, 441, 191, 442, 177, 442, 191, 443, 176, 443, 190, 444, 175, 444, 176, 444, 189, 444, 190, 445, 174, 445, 175, 445, 189, 446, 174, 446, 188, 447, 173, 447, 187, 447, 188, 448, 173, 448, 186, 448, 187, 449, 172, 449, 185, 449, 186, 450, 172, 450, 184, 450, 185, 451, 171, 451, 183, 451, 184, 452, 171, 452, 182, 452, 183, 453, 171, 453, 172, 453, 173, 453, 174, 453, 175, 453, 176, 453, 177, 453, 178, 453, 179, 453, 180, 453, 181, 453, 182], 'iscrowd': 0}, {'id': '46', 'image_id': '31', 'category_id': 1, 'bbox': [440, 416, 36, 26], 'area': 71, 'segmentation': [415, 454, 415, 455, 415, 456, 415, 457, 415, 458, 415, 459, 415, 460, 416, 453, 416, 461, 416, 462, 417, 452, 417, 462, 417, 463, 418, 452, 418, 463, 419, 451, 419, 464, 420, 451, 420, 464, 421, 450, 421, 465, 422, 450, 422, 465, 423, 450, 423, 465, 424, 449, 424, 465, 425, 449, 425, 465, 426, 449, 426, 466, 427, 449, 427, 466, 428, 449, 428, 466, 429, 449, 429, 466, 430, 449, 430, 466, 431, 449, 431, 466, 432, 449, 432, 466, 433, 449, 433, 466, 434, 450, 434, 466, 435, 450, 435, 465, 436, 450, 436, 465, 437, 451, 437, 465, 438, 451, 438, 465, 439, 452, 439, 464, 440, 452, 440, 464, 441, 453, 441, 454, 441, 455, 441, 456, 441, 457, 441, 458, 441, 459, 441, 460, 441, 461, 441, 462, 441, 463, 441, 464], 'iscrowd': 0}, {'id': '47', 'image_id': '32', 'category_id': 1, 'bbox': [128, 475, 46, 44], 'area': 104, 'segmentation': [481, 149, 481, 150, 481, 151, 481, 152, 481, 153, 481, 154, 481, 155, 481, 156, 481, 157, 482, 147, 482, 148, 482, 158, 482, 159, 483, 145, 483, 146, 483, 160, 483, 161, 484, 143, 484, 144, 484, 161, 484, 162, 485, 142, 485, 143, 485, 162, 485, 163, 486, 141, 486, 142, 486, 163, 486, 164, 487, 140, 487, 141, 487, 164, 487, 165, 488, 139, 488, 140, 488, 165, 489, 138, 489, 139, 489, 166, 490, 138, 490, 166, 491, 137, 491, 166, 492, 137, 492, 166, 493, 136, 493, 166, 494, 136, 494, 166, 495, 136, 495, 166, 496, 135, 496, 166, 497, 135, 497, 166, 498, 135, 498, 166, 499, 135, 499, 166, 500, 135, 500, 166, 501, 135, 501, 166, 502, 135, 502, 165, 503, 136, 503, 165, 504, 136, 504, 164, 505, 137, 505, 163, 505, 164, 506, 137, 506, 163, 507, 138, 507, 162, 508, 138, 508, 139, 508, 161, 508, 162, 509, 139, 509, 140, 509, 159, 509, 160, 510, 140, 510, 141, 510, 158, 510, 159, 511, 142, 511, 143, 511, 156, 511, 157, 512, 144, 512, 145, 512, 146, 512, 147, 512, 148, 512, 149, 512, 150, 512, 151, 512, 152, 512, 153, 512, 154, 512, 155], 'iscrowd': 0}, {'id': '48', 'image_id': '33', 'category_id': 1, 'bbox': [24, 325, 15, 10], 'area': 28, 'segmentation': [324, 33, 325, 31, 325, 32, 325, 34, 325, 35, 326, 30, 326, 31, 326, 35, 327, 30, 327, 35, 328, 29, 328, 35, 329, 29, 329, 35, 330, 28, 330, 35, 331, 28, 331, 34, 332, 28, 332, 34, 333, 28, 333, 33, 333, 34, 334, 29, 334, 30, 334, 31, 334, 32, 334, 33], 'iscrowd': 0}, {'id': '49', 'image_id': '35', 'category_id': 1, 'bbox': [59, 223, 34, 14], 'area': 44, 'segmentation': [222, 75, 222, 76, 222, 77, 222, 78, 222, 79, 222, 80, 222, 81, 223, 73, 223, 74, 223, 82, 224, 73, 224, 82, 225, 72, 225, 82, 226, 72, 226, 82, 227, 71, 227, 82, 228, 71, 228, 81, 229, 71, 229, 81, 230, 70, 230, 81, 231, 70, 231, 81, 232, 70, 232, 80, 233, 69, 233, 80, 234, 69, 234, 80, 235, 69, 235, 79, 236, 70, 236, 71, 236, 72, 236, 73, 236, 74, 236, 75, 236, 76, 236, 77, 236, 78, 236, 79], 'iscrowd': 0}, {'id': '50', 'image_id': '35', 'category_id': 1, 'bbox': [523, 357, 30, 20], 'area': 68, 'segmentation': [359, 534, 359, 535, 360, 530, 360, 531, 360, 532, 360, 533, 360, 536, 360, 537, 360, 538, 360, 539, 360, 540, 360, 541, 361, 528, 361, 529, 361, 542, 361, 543, 362, 526, 362, 527, 362, 544, 362, 545, 362, 546, 363, 525, 363, 526, 363, 547, 363, 548, 364, 525, 364, 548, 364, 549, 365, 524, 365, 549, 365, 550, 366, 525, 366, 550, 366, 551, 367, 525, 367, 526, 367, 551, 368, 526, 368, 527, 368, 551, 369, 527, 369, 528, 369, 551, 370, 528, 370, 529, 370, 551, 371, 530, 371, 531, 371, 550, 371, 551, 372, 532, 372, 533, 372, 534, 372, 535, 372, 548, 372, 549, 373, 536, 373, 537, 373, 538, 373, 539, 373, 540, 373, 541, 373, 542, 373, 543, 373, 544, 373, 545, 373, 546, 373, 547], 'iscrowd': 0}, {'id': '51', 'image_id': '35', 'category_id': 1, 'bbox': [26, 161, 38, 33], 'area': 85, 'segmentation': [161, 43, 161, 44, 162, 41, 162, 42, 162, 45, 162, 46, 163, 39, 163, 40, 163, 47, 163, 48, 164, 38, 164, 39, 164, 49, 164, 50, 165, 37, 165, 38, 165, 50, 165, 51, 166, 37, 166, 51, 167, 36, 167, 52, 168, 36, 168, 52, 169, 35, 169, 53, 170, 35, 170, 53, 171, 34, 171, 54, 172, 34, 172, 54, 173, 34, 173, 54, 174, 34, 174, 54, 175, 34, 175, 55, 176, 34, 176, 55, 177, 34, 177, 55, 178, 34, 178, 55, 179, 34, 179, 55, 180, 34, 180, 55, 181, 34, 181, 55, 182, 35, 182, 55, 183, 35, 183, 54, 184, 35, 184, 54, 185, 36, 185, 54, 186, 36, 186, 37, 186, 54, 187, 37, 187, 53, 188, 38, 188, 53, 189, 38, 189, 39, 189, 52, 190, 39, 190, 40, 190, 51, 190, 52, 191, 40, 191, 41, 191, 50, 191, 51, 192, 42, 192, 43, 192, 44, 192, 45, 192, 46, 192, 47, 192, 48, 192, 49, 192, 50], 'iscrowd': 0}, {'id': '52', 'image_id': '36', 'category_id': 1, 'bbox': [249, 260, 21, 18], 'area': 46, 'segmentation': [262, 260, 262, 261, 262, 262, 262, 263, 263, 258, 263, 259, 263, 264, 263, 265, 264, 256, 264, 257, 264, 265, 264, 266, 265, 255, 265, 256, 265, 266, 266, 254, 266, 255, 266, 266, 267, 254, 267, 266, 268, 253, 268, 266, 269, 253, 269, 266, 270, 252, 270, 265, 271, 252, 271, 265, 272, 251, 272, 264, 273, 252, 273, 263, 273, 264, 274, 252, 274, 262, 274, 263, 275, 253, 275, 260, 275, 261, 276, 253, 276, 254, 276, 255, 276, 256, 276, 257, 276, 258, 276, 259], 'iscrowd': 0}, {'id': '53', 'image_id': '37', 'category_id': 1, 'bbox': [173, 25, 25, 11], 'area': 50, 'segmentation': [24, 177, 24, 178, 24, 179, 24, 180, 24, 181, 24, 182, 25, 176, 25, 183, 25, 184, 26, 175, 26, 185, 26, 186, 27, 176, 27, 187, 27, 188, 28, 176, 28, 177, 28, 189, 28, 190, 29, 177, 29, 178, 29, 190, 29, 191, 30, 178, 30, 179, 30, 192, 30, 193, 31, 179, 31, 180, 31, 193, 31, 194, 32, 181, 32, 182, 32, 194, 32, 195, 33, 182, 33, 183, 33, 195, 34, 184, 34, 185, 34, 196, 35, 186, 35, 187, 35, 188, 35, 189, 35, 190, 35, 191, 35, 192, 35, 193, 35, 194], 'iscrowd': 0}, {'id': '54', 'image_id': '37', 'category_id': 1, 'bbox': [158, 376, 39, 36], 'area': 91, 'segmentation': [380, 171, 380, 172, 380, 173, 380, 174, 380, 175, 380, 176, 380, 177, 381, 169, 381, 170, 381, 178, 381, 179, 381, 180, 382, 168, 382, 169, 382, 181, 382, 182, 383, 167, 383, 168, 383, 182, 383, 183, 384, 166, 384, 167, 384, 184, 384, 185, 385, 166, 385, 185, 385, 186, 386, 165, 386, 186, 386, 187, 387, 165, 387, 187, 388, 164, 388, 188, 389, 164, 389, 188, 389, 189, 390, 164, 390, 189, 391, 164, 391, 189, 392, 164, 392, 190, 393, 164, 393, 190, 394, 165, 394, 190, 395, 165, 395, 190, 396, 165, 396, 191, 397, 166, 397, 191, 398, 166, 398, 191, 399, 167, 399, 191, 400, 167, 400, 168, 400, 191, 401, 168, 401, 169, 401, 190, 402, 169, 402, 170, 402, 190, 403, 170, 403, 171, 403, 190, 404, 171, 404, 172, 404, 189, 405, 172, 405, 173, 405, 188, 405, 189, 406, 174, 406, 175, 406, 187, 406, 188, 407, 176, 407, 177, 407, 178, 407, 179, 407, 180, 407, 181, 407, 182, 407, 183, 407, 184, 407, 185, 407, 186], 'iscrowd': 0}, {'id': '55', 'image_id': '39', 'category_id': 1, 'bbox': [240, 328, 45, 43], 'area': 100, 'segmentation': [335, 260, 335, 261, 335, 262, 335, 263, 335, 264, 335, 265, 335, 266, 335, 267, 335, 268, 336, 257, 336, 258, 336, 259, 336, 269, 336, 270, 337, 255, 337, 256, 337, 271, 337, 272, 338, 253, 338, 254, 338, 273, 338, 274, 339, 252, 339, 253, 339, 274, 339, 275, 340, 250, 340, 251, 340, 275, 340, 276, 341, 249, 341, 250, 341, 276, 341, 277, 342, 249, 342, 277, 343, 248, 343, 278, 344, 248, 344, 278, 345, 247, 345, 278, 346, 247, 346, 279, 347, 246, 347, 279, 348, 246, 348, 279, 349, 246, 349, 279, 350, 245, 350, 279, 351, 246, 351, 278, 352, 246, 352, 278, 353, 246, 353, 278, 354, 246, 354, 278, 355, 247, 355, 277, 356, 247, 356, 248, 356, 276, 356, 277, 357, 248, 357, 275, 357, 276, 358, 249, 358, 274, 358, 275, 359, 249, 359, 250, 359, 273, 359, 274, 360, 251, 360, 252, 360, 271, 360, 272, 361, 252, 361, 253, 361, 269, 361, 270, 361, 271, 362, 254, 362, 255, 362, 256, 362, 257, 362, 258, 362, 265, 362, 266, 362, 267, 362, 268, 363, 259, 363, 260, 363, 261, 363, 262, 363, 263, 363, 264], 'iscrowd': 0}, {'id': '56', 'image_id': '40', 'category_id': 1, 'bbox': [292, 67, 37, 27], 'area': 74, 'segmentation': [66, 305, 66, 306, 66, 307, 66, 308, 66, 309, 66, 310, 66, 311, 66, 312, 67, 304, 67, 313, 68, 303, 68, 314, 69, 303, 69, 314, 69, 315, 70, 302, 70, 315, 71, 302, 71, 316, 72, 301, 72, 316, 73, 301, 73, 317, 74, 301, 74, 317, 75, 301, 75, 318, 76, 301, 76, 318, 77, 301, 77, 318, 78, 301, 78, 318, 79, 301, 79, 318, 80, 301, 80, 319, 81, 301, 81, 319, 82, 301, 82, 319, 83, 302, 83, 319, 84, 302, 84, 319, 85, 302, 85, 319, 86, 302, 86, 319, 87, 303, 87, 319, 88, 303, 88, 319, 89, 304, 89, 318, 90, 304, 90, 318, 91, 305, 91, 318, 92, 305, 92, 306, 92, 318, 93, 306, 93, 307, 93, 308, 93, 309, 93, 310, 93, 311, 93, 312, 93, 313, 93, 314, 93, 315, 93, 316, 93, 317], 'iscrowd': 0}, {'id': '57', 'image_id': '40', 'category_id': 1, 'bbox': [296, 67, 31, 8], 'area': 60, 'segmentation': [68, 303, 68, 304, 68, 305, 68, 306, 68, 307, 68, 308, 68, 309, 68, 310, 68, 311, 68, 312, 68, 313, 68, 314, 68, 315, 68, 316, 68, 317, 68, 318, 68, 319, 68, 320, 68, 321, 69, 300, 69, 301, 69, 302, 69, 322, 69, 323, 69, 324, 70, 298, 70, 299, 70, 325, 70, 326, 71, 297, 71, 326, 72, 297, 72, 323, 72, 324, 72, 325, 72, 326, 73, 299, 73, 300, 73, 301, 73, 302, 73, 303, 73, 304, 73, 305, 73, 306, 73, 307, 73, 308, 73, 309, 73, 310, 73, 311, 73, 312, 73, 313, 73, 314, 73, 315, 73, 316, 73, 317, 73, 318, 73, 319, 73, 320, 73, 321, 73, 322], 'iscrowd': 0}, {'id': '58', 'image_id': '41', 'category_id': 1, 'bbox': [244, 88, 27, 12], 'area': 55, 'segmentation': [87, 248, 87, 249, 87, 250, 87, 251, 87, 252, 87, 253, 87, 254, 88, 247, 88, 255, 88, 256, 89, 247, 89, 257, 89, 258, 90, 247, 90, 259, 90, 260, 91, 248, 91, 261, 91, 262, 92, 248, 92, 249, 92, 262, 92, 263, 93, 249, 93, 250, 93, 263, 93, 264, 94, 250, 94, 251, 94, 265, 94, 266, 95, 251, 95, 252, 95, 266, 95, 267, 96, 253, 96, 254, 96, 267, 97, 254, 97, 255, 97, 268, 98, 256, 98, 257, 98, 268, 99, 258, 99, 259, 99, 260, 99, 261, 99, 262, 99, 263, 99, 264, 99, 265, 99, 266, 99, 267, 99, 268], 'iscrowd': 0}, {'id': '59', 'image_id': '41', 'category_id': 1, 'bbox': [436, 530, 37, 36], 'area': 82, 'segmentation': [536, 451, 536, 452, 536, 453, 536, 454, 536, 455, 536, 456, 536, 457, 536, 458, 536, 459, 537, 449, 537, 450, 537, 460, 537, 461, 538, 447, 538, 448, 538, 462, 538, 463, 539, 445, 539, 446, 539, 464, 539, 465, 540, 444, 540, 445, 540, 465, 540, 466, 541, 443, 541, 444, 541, 466, 542, 443, 542, 467, 543, 442, 543, 467, 544, 442, 544, 468, 545, 441, 545, 468, 546, 441, 546, 468, 547, 441, 547, 468, 548, 441, 548, 468, 549, 441, 549, 468, 550, 441, 550, 468, 551, 441, 551, 468, 552, 442, 552, 467, 553, 442, 553, 467, 554, 443, 554, 466, 555, 443, 555, 444, 555, 465, 555, 466, 556, 444, 556, 445, 556, 464, 556, 465, 557, 445, 557, 446, 557, 463, 557, 464, 558, 447, 558, 448, 558, 449, 558, 460, 558, 461, 558, 462, 559, 450, 559, 451, 559, 452, 559, 453, 559, 454, 559, 455, 559, 456, 559, 457, 559, 458, 559, 459], 'iscrowd': 0}, {'id': '60', 'image_id': '42', 'category_id': 1, 'bbox': [445, 437, 17, 16], 'area': 34, 'segmentation': [439, 453, 440, 451, 440, 452, 440, 454, 440, 455, 441, 449, 441, 450, 441, 456, 441, 457, 442, 448, 442, 449, 442, 458, 443, 448, 443, 459, 444, 447, 444, 459, 445, 448, 445, 460, 446, 448, 446, 460, 447, 449, 447, 460, 448, 449, 448, 450, 448, 459, 449, 451, 449, 452, 449, 458, 449, 459, 450, 453, 450, 454, 450, 455, 450, 456, 450, 457], 'iscrowd': 0}, {'id': '61', 'image_id': '42', 'category_id': 1, 'bbox': [512, 430, 34, 33], 'area': 78, 'segmentation': [433, 527, 433, 528, 433, 529, 433, 530, 433, 531, 433, 532, 434, 525, 434, 526, 434, 533, 434, 534, 435, 524, 435, 525, 435, 534, 435, 535, 436, 522, 436, 523, 436, 536, 437, 522, 437, 537, 438, 521, 438, 537, 438, 538, 439, 521, 439, 538, 440, 520, 440, 538, 441, 520, 441, 539, 442, 519, 442, 539, 443, 519, 443, 539, 444, 518, 444, 539, 445, 518, 445, 539, 446, 518, 446, 539, 447, 518, 447, 539, 448, 518, 448, 539, 449, 518, 449, 539, 450, 518, 450, 539, 451, 519, 451, 538, 452, 519, 452, 538, 453, 519, 453, 538, 454, 520, 454, 537, 455, 520, 455, 521, 455, 536, 455, 537, 456, 521, 456, 522, 456, 535, 456, 536, 457, 522, 457, 523, 457, 534, 457, 535, 458, 523, 458, 524, 458, 533, 458, 534, 459, 525, 459, 526, 459, 527, 459, 528, 459, 529, 459, 530, 459, 531, 459, 532], 'iscrowd': 0}, {'id': '62', 'image_id': '43', 'category_id': 1, 'bbox': [90, 415, 20, 20], 'area': 46, 'segmentation': [418, 100, 418, 101, 419, 97, 419, 98, 419, 99, 419, 102, 419, 103, 420, 95, 420, 96, 420, 104, 420, 105, 421, 94, 421, 95, 421, 105, 421, 106, 422, 94, 422, 106, 423, 93, 423, 106, 424, 93, 424, 106, 425, 92, 425, 106, 426, 92, 426, 106, 427, 93, 427, 106, 428, 93, 428, 105, 428, 106, 429, 94, 429, 104, 429, 105, 430, 94, 430, 95, 430, 103, 430, 104, 431, 95, 431, 96, 431, 97, 431, 98, 431, 99, 431, 100, 431, 101, 431, 102, 431, 103], 'iscrowd': 0}, {'id': '63', 'image_id': '43', 'category_id': 1, 'bbox': [67, 202, 40, 37], 'area': 91, 'segmentation': [205, 86, 205, 87, 205, 88, 205, 89, 205, 90, 205, 91, 206, 84, 206, 85, 206, 92, 206, 93, 207, 82, 207, 83, 207, 94, 207, 95, 208, 81, 208, 82, 208, 95, 208, 96, 209, 80, 209, 81, 209, 96, 210, 79, 210, 80, 210, 97, 211, 78, 211, 79, 211, 97, 211, 98, 212, 78, 212, 98, 213, 77, 213, 98, 214, 77, 214, 99, 215, 76, 215, 99, 216, 76, 216, 99, 217, 75, 217, 99, 218, 75, 218, 99, 219, 75, 219, 99, 220, 75, 220, 99, 221, 75, 221, 99, 222, 75, 222, 99, 223, 75, 223, 99, 224, 75, 224, 99, 225, 75, 225, 99, 226, 75, 226, 98, 227, 76, 227, 98, 228, 76, 228, 97, 229, 77, 229, 97, 230, 77, 230, 96, 231, 78, 231, 95, 231, 96, 232, 78, 232, 79, 232, 94, 232, 95, 233, 79, 233, 80, 233, 93, 233, 94, 234, 80, 234, 81, 234, 92, 234, 93, 235, 82, 235, 83, 235, 84, 235, 85, 235, 86, 235, 87, 235, 88, 235, 89, 235, 90, 235, 91], 'iscrowd': 0}, {'id': '64', 'image_id': '44', 'category_id': 1, 'bbox': [218, 70, 22, 10], 'area': 30, 'segmentation': [69, 229, 69, 230, 69, 231, 69, 232, 70, 227, 70, 228, 70, 233, 71, 227, 71, 233, 72, 226, 72, 233, 73, 226, 73, 233, 74, 225, 74, 233, 75, 225, 75, 232, 76, 224, 76, 232, 77, 224, 77, 232, 78, 224, 78, 231, 79, 224, 79, 226, 79, 227, 79, 228, 79, 229, 79, 230, 79, 231], 'iscrowd': 0}, {'id': '65', 'image_id': '45', 'category_id': 1, 'bbox': [145, 549, 27, 20], 'area': 54, 'segmentation': [548, 158, 548, 159, 548, 160, 548, 161, 549, 156, 549, 157, 549, 162, 549, 163, 550, 155, 550, 156, 550, 163, 551, 155, 551, 164, 552, 154, 552, 164, 553, 154, 553, 164, 554, 153, 554, 164, 555, 153, 555, 164, 556, 152, 556, 164, 557, 152, 557, 164, 558, 152, 558, 164, 559, 152, 559, 164, 560, 152, 560, 164, 561, 152, 561, 164, 562, 152, 562, 164, 563, 152, 563, 164, 564, 152, 564, 164, 565, 152, 565, 163, 566, 153, 566, 163, 567, 153, 567, 163, 568, 154, 568, 155, 568, 156, 568, 157, 568, 158, 568, 159, 568, 160, 568, 161, 568, 162], 'iscrowd': 0}, {'id': '66', 'image_id': '45', 'category_id': 1, 'bbox': [17, 545, 28, 13], 'area': 57, 'segmentation': [544, 33, 544, 34, 544, 35, 544, 36, 544, 37, 544, 38, 544, 39, 544, 40, 544, 41, 545, 31, 545, 32, 546, 30, 546, 31, 546, 41, 547, 29, 547, 30, 547, 40, 548, 27, 548, 28, 548, 39, 548, 40, 549, 26, 549, 27, 549, 39, 550, 26, 550, 38, 551, 25, 551, 37, 551, 38, 552, 24, 552, 25, 552, 36, 552, 37, 553, 23, 553, 24, 553, 35, 553, 36, 554, 23, 554, 34, 554, 35, 555, 22, 555, 33, 555, 34, 556, 22, 556, 32, 556, 33, 557, 22, 557, 23, 557, 24, 557, 25, 557, 26, 557, 27, 557, 28, 557, 29, 557, 30, 557, 31, 557, 32], 'iscrowd': 0}, {'id': '67', 'image_id': '45', 'category_id': 1, 'bbox': [130, 44, 36, 24], 'area': 69, 'segmentation': [43, 147, 43, 148, 43, 149, 43, 150, 43, 151, 43, 152, 43, 153, 43, 154, 44, 146, 44, 155, 44, 156, 45, 145, 45, 156, 46, 144, 46, 145, 46, 156, 47, 144, 47, 156, 48, 143, 48, 156, 49, 143, 49, 157, 50, 142, 50, 157, 51, 142, 51, 157, 52, 141, 52, 157, 53, 141, 53, 156, 54, 141, 54, 156, 55, 140, 55, 156, 56, 140, 56, 156, 57, 140, 57, 156, 58, 140, 58, 156, 59, 139, 59, 155, 60, 139, 60, 155, 61, 139, 61, 155, 62, 139, 62, 154, 63, 139, 63, 154, 64, 139, 64, 153, 64, 154, 65, 140, 65, 153, 66, 140, 66, 152, 67, 141, 67, 142, 67, 143, 67, 144, 67, 145, 67, 146, 67, 147, 67, 148, 67, 149, 67, 150, 67, 151, 67, 152], 'iscrowd': 0}, {'id': '68', 'image_id': '46', 'category_id': 1, 'bbox': [297, 217, 12, 7], 'area': 25, 'segmentation': [218, 300, 218, 301, 218, 302, 218, 303, 218, 304, 218, 305, 219, 298, 219, 299, 219, 306, 219, 307, 220, 298, 220, 307, 220, 308, 221, 298, 221, 308, 222, 299, 222, 300, 222, 301, 222, 302, 222, 303, 222, 304, 222, 305, 222, 306, 222, 307, 222, 308], 'iscrowd': 0}, {'id': '69', 'image_id': '46', 'category_id': 1, 'bbox': [445, 229, 34, 29], 'area': 74, 'segmentation': [234, 457, 234, 458, 234, 459, 234, 460, 234, 461, 234, 462, 234, 463, 235, 455, 235, 456, 235, 464, 235, 465, 235, 466, 236, 453, 236, 454, 236, 467, 236, 468, 237, 451, 237, 452, 237, 469, 237, 470, 238, 450, 238, 451, 238, 471, 238, 472, 239, 450, 239, 472, 239, 473, 240, 449, 240, 473, 240, 474, 241, 449, 241, 474, 242, 448, 242, 475, 243, 448, 243, 475, 244, 449, 244, 475, 245, 449, 245, 475, 246, 450, 246, 475, 247, 450, 247, 451, 247, 475, 248, 451, 248, 452, 248, 475, 249, 452, 249, 453, 249, 474, 250, 453, 250, 454, 250, 473, 250, 474, 251, 455, 251, 456, 251, 471, 251, 472, 251, 473, 252, 457, 252, 458, 252, 459, 252, 460, 252, 461, 252, 462, 252, 466, 252, 467, 252, 468, 252, 469, 252, 470, 253, 463, 253, 464, 253, 465], 'iscrowd': 0}, {'id': '70', 'image_id': '48', 'category_id': 1, 'bbox': [504, 174, 28, 17], 'area': 60, 'segmentation': [174, 523, 174, 524, 174, 525, 175, 519, 175, 520, 175, 521, 175, 522, 175, 526, 175, 527, 176, 517, 176, 518, 176, 528, 176, 529, 177, 515, 177, 516, 177, 529, 178, 513, 178, 514, 178, 529, 179, 511, 179, 512, 179, 529, 180, 510, 180, 511, 180, 529, 181, 508, 181, 509, 181, 528, 182, 508, 182, 527, 182, 528, 183, 507, 183, 526, 183, 527, 184, 507, 184, 525, 184, 526, 185, 506, 185, 524, 185, 525, 186, 506, 186, 522, 186, 523, 187, 506, 187, 520, 187, 521, 188, 506, 188, 507, 188, 517, 188, 518, 188, 519, 189, 508, 189, 509, 189, 510, 189, 511, 189, 512, 189, 513, 189, 514, 189, 515, 189, 516], 'iscrowd': 0}, {'id': '71', 'image_id': '48', 'category_id': 1, 'bbox': [273, 343, 42, 42], 'area': 97, 'segmentation': [349, 294, 349, 295, 349, 296, 349, 297, 349, 298, 349, 299, 350, 291, 350, 292, 350, 293, 350, 300, 350, 301, 351, 289, 351, 290, 351, 302, 351, 303, 352, 287, 352, 288, 352, 304, 352, 305, 353, 286, 353, 287, 353, 305, 353, 306, 354, 285, 354, 286, 354, 306, 355, 284, 355, 285, 355, 307, 356, 283, 356, 284, 356, 307, 357, 282, 357, 283, 357, 308, 358, 282, 358, 308, 359, 281, 359, 308, 360, 281, 360, 308, 361, 280, 361, 308, 362, 280, 362, 308, 363, 279, 363, 308, 364, 279, 364, 308, 365, 279, 365, 308, 366, 279, 366, 308, 367, 279, 367, 308, 368, 279, 368, 307, 369, 279, 369, 307, 370, 279, 370, 306, 371, 280, 371, 306, 372, 280, 372, 305, 373, 281, 373, 304, 373, 305, 374, 281, 374, 282, 374, 303, 374, 304, 375, 282, 375, 283, 375, 302, 375, 303, 376, 283, 376, 284, 376, 300, 376, 301, 377, 284, 377, 285, 377, 298, 377, 299, 377, 300, 378, 286, 378, 287, 378, 288, 378, 289, 378, 290, 378, 291, 378, 292, 378, 293, 378, 294, 378, 295, 378, 296, 378, 297], 'iscrowd': 0}, {'id': '72', 'image_id': '48', 'category_id': 1, 'bbox': [123, 384, 30, 29], 'area': 64, 'segmentation': [389, 134, 389, 135, 389, 136, 389, 137, 389, 138, 389, 139, 389, 140, 390, 132, 390, 133, 390, 141, 390, 142, 391, 131, 391, 132, 391, 143, 391, 144, 392, 130, 392, 144, 392, 145, 393, 129, 393, 145, 393, 146, 394, 129, 394, 146, 394, 147, 395, 128, 395, 147, 396, 128, 396, 148, 397, 127, 397, 148, 398, 127, 398, 148, 399, 127, 399, 148, 400, 128, 400, 148, 401, 128, 401, 148, 402, 129, 402, 148, 403, 129, 403, 130, 403, 148, 404, 130, 404, 148, 405, 131, 405, 147, 406, 132, 406, 133, 406, 146, 406, 147, 407, 133, 407, 134, 407, 144, 407, 145, 408, 135, 408, 136, 408, 137, 408, 138, 408, 139, 408, 140, 408, 141, 408, 142, 408, 143], 'iscrowd': 0}, {'id': '73', 'image_id': '49', 'category_id': 1, 'bbox': [488, 255, 10, 7], 'area': 17, 'segmentation': [256, 492, 256, 493, 256, 494, 257, 490, 257, 491, 257, 495, 257, 496, 258, 490, 258, 496, 259, 490, 259, 496, 260, 490, 260, 491, 260, 492, 260, 493, 260, 494, 260, 495], 'iscrowd': 0}, {'id': '74', 'image_id': '49', 'category_id': 1, 'bbox': [221, 594, 46, 45], 'area': 106, 'segmentation': [601, 242, 601, 243, 601, 244, 601, 245, 601, 246, 601, 247, 601, 248, 601, 249, 601, 250, 601, 251, 602, 239, 602, 240, 602, 241, 602, 252, 602, 253, 603, 237, 603, 238, 603, 254, 603, 255, 604, 235, 604, 236, 604, 255, 604, 256, 605, 234, 605, 235, 605, 257, 605, 258, 606, 233, 606, 234, 606, 258, 607, 232, 607, 233, 607, 259, 608, 231, 608, 232, 608, 259, 609, 230, 609, 231, 609, 260, 610, 230, 610, 260, 611, 229, 611, 260, 612, 229, 612, 261, 613, 228, 613, 261, 614, 228, 614, 261, 615, 228, 615, 261, 616, 227, 616, 261, 617, 227, 617, 261, 618, 227, 618, 260, 619, 227, 619, 260, 620, 227, 620, 260, 621, 228, 621, 260, 622, 228, 622, 259, 623, 229, 623, 258, 623, 259, 624, 229, 624, 257, 624, 258, 625, 230, 625, 256, 625, 257, 626, 230, 626, 231, 626, 255, 626, 256, 627, 231, 627, 232, 627, 254, 627, 255, 628, 232, 628, 233, 628, 253, 628, 254, 629, 233, 629, 234, 629, 251, 629, 252, 630, 235, 630, 236, 630, 237, 630, 247, 630, 248, 630, 249, 630, 250, 631, 238, 631, 239, 631, 240, 631, 241, 631, 242, 631, 243, 631, 244, 631, 245, 631, 246], 'iscrowd': 0}, {'id': '75', 'image_id': '49', 'category_id': 1, 'bbox': [265, 598, 39, 28], 'area': 84, 'segmentation': [597, 277, 597, 278, 597, 279, 597, 280, 597, 281, 597, 282, 597, 283, 597, 284, 598, 276, 598, 285, 598, 286, 599, 275, 599, 286, 599, 287, 600, 275, 600, 287, 600, 288, 601, 274, 601, 288, 601, 289, 602, 274, 602, 289, 602, 290, 603, 273, 603, 290, 604, 273, 604, 291, 605, 273, 605, 291, 606, 273, 606, 292, 607, 273, 607, 292, 608, 274, 608, 293, 609, 274, 609, 293, 610, 274, 610, 294, 611, 274, 611, 294, 612, 275, 612, 294, 613, 275, 613, 294, 614, 275, 614, 295, 615, 276, 615, 295, 616, 276, 616, 295, 617, 277, 617, 295, 618, 277, 618, 295, 619, 278, 619, 295, 620, 278, 620, 279, 620, 295, 621, 279, 621, 280, 621, 295, 622, 280, 622, 281, 622, 295, 623, 281, 623, 282, 623, 295, 624, 282, 624, 283, 624, 294, 625, 283, 625, 284, 625, 285, 625, 286, 625, 287, 625, 288, 625, 289, 625, 290, 625, 291, 625, 292, 625, 293, 625, 294], 'iscrowd': 0}, {'id': '76', 'image_id': '51', 'category_id': 1, 'bbox': [526, 126, 13, 11], 'area': 26, 'segmentation': [128, 529, 128, 530, 128, 531, 128, 532, 128, 533, 129, 528, 129, 529, 129, 534, 129, 535, 130, 528, 130, 535, 131, 528, 131, 536, 132, 528, 132, 536, 133, 529, 133, 536, 134, 529, 134, 530, 134, 536, 135, 531, 135, 532, 135, 533, 135, 534, 135, 535, 135, 536], 'iscrowd': 0}, {'id': '77', 'image_id': '51', 'category_id': 1, 'bbox': [304, 35, 32, 22], 'area': 70, 'segmentation': [38, 316, 38, 317, 38, 318, 38, 319, 38, 320, 38, 321, 38, 322, 38, 323, 39, 312, 39, 313, 39, 314, 39, 315, 39, 324, 39, 325, 39, 326, 39, 327, 40, 310, 40, 311, 40, 328, 40, 329, 41, 308, 41, 309, 41, 330, 41, 331, 42, 307, 42, 308, 42, 331, 42, 332, 43, 307, 43, 332, 43, 333, 44, 306, 44, 333, 45, 306, 45, 334, 46, 306, 46, 334, 47, 306, 47, 334, 48, 307, 48, 333, 49, 307, 49, 308, 49, 332, 49, 333, 50, 308, 50, 309, 50, 331, 50, 332, 51, 310, 51, 311, 51, 312, 51, 329, 51, 330, 52, 313, 52, 314, 52, 315, 52, 316, 52, 317, 52, 318, 52, 319, 52, 320, 52, 321, 52, 322, 52, 323, 52, 324, 52, 325, 52, 326, 52, 327, 52, 328], 'iscrowd': 0}, {'id': '78', 'image_id': '52', 'category_id': 1, 'bbox': [94, 57, 32, 22], 'area': 71, 'segmentation': [60, 106, 60, 107, 60, 108, 60, 109, 60, 110, 60, 111, 60, 112, 60, 113, 60, 114, 60, 115, 61, 103, 61, 104, 61, 105, 61, 116, 61, 117, 61, 118, 62, 101, 62, 102, 62, 119, 62, 120, 63, 99, 63, 100, 63, 121, 63, 122, 64, 97, 64, 98, 64, 122, 64, 123, 65, 97, 65, 123, 65, 124, 66, 96, 66, 124, 67, 96, 67, 124, 68, 96, 68, 124, 69, 96, 69, 124, 70, 97, 70, 123, 70, 124, 71, 97, 71, 98, 71, 122, 71, 123, 72, 98, 72, 99, 72, 121, 72, 122, 73, 100, 73, 101, 73, 102, 73, 118, 73, 119, 73, 120, 74, 103, 74, 104, 74, 105, 74, 106, 74, 107, 74, 108, 74, 109, 74, 110, 74, 111, 74, 112, 74, 113, 74, 114, 74, 115, 74, 116, 74, 117], 'iscrowd': 0}, {'id': '79', 'image_id': '52', 'category_id': 1, 'bbox': [547, 494, 49, 47], 'area': 112, 'segmentation': [499, 568, 499, 569, 499, 570, 499, 571, 499, 572, 499, 573, 500, 566, 500, 567, 500, 574, 500, 575, 500, 576, 501, 564, 501, 565, 501, 577, 501, 578, 502, 562, 502, 563, 502, 579, 502, 580, 503, 561, 503, 562, 503, 580, 503, 581, 504, 560, 504, 561, 504, 581, 504, 582, 505, 559, 505, 560, 505, 582, 505, 583, 506, 559, 506, 583, 507, 558, 507, 584, 508, 558, 508, 584, 508, 585, 509, 557, 509, 585, 510, 557, 510, 585, 511, 556, 511, 586, 512, 556, 512, 586, 513, 556, 513, 586, 514, 556, 514, 587, 515, 555, 515, 587, 516, 555, 516, 587, 517, 555, 517, 587, 518, 555, 518, 587, 519, 555, 519, 587, 520, 556, 520, 587, 521, 556, 521, 587, 522, 556, 522, 587, 523, 557, 523, 586, 524, 557, 524, 586, 525, 557, 525, 586, 526, 558, 526, 586, 527, 558, 527, 559, 527, 585, 528, 559, 528, 585, 529, 560, 529, 584, 530, 560, 530, 561, 530, 583, 530, 584, 531, 561, 531, 562, 531, 582, 531, 583, 532, 562, 532, 563, 532, 581, 532, 582, 533, 563, 533, 564, 533, 580, 533, 581, 534, 565, 534, 566, 534, 567, 534, 578, 534, 579, 535, 568, 535, 569, 535, 570, 535, 571, 535, 572, 535, 573, 535, 574, 535, 575, 535, 576, 535, 577], 'iscrowd': 0}, {'id': '80', 'image_id': '54', 'category_id': 1, 'bbox': [92, 200, 34, 33], 'area': 76, 'segmentation': [204, 108, 204, 109, 205, 105, 205, 106, 205, 107, 205, 110, 205, 111, 205, 112, 206, 103, 206, 104, 206, 113, 206, 114, 207, 101, 207, 102, 207, 115, 207, 116, 208, 100, 208, 101, 208, 116, 208, 117, 209, 100, 209, 117, 209, 118, 210, 99, 210, 118, 211, 99, 211, 119, 212, 98, 212, 119, 213, 98, 213, 120, 214, 98, 214, 120, 215, 97, 215, 120, 216, 97, 216, 120, 217, 97, 217, 120, 218, 98, 218, 120, 219, 98, 219, 120, 220, 98, 220, 120, 221, 99, 221, 120, 222, 99, 222, 120, 223, 100, 223, 119, 224, 100, 224, 101, 224, 118, 224, 119, 225, 101, 225, 102, 225, 117, 225, 118, 226, 102, 226, 103, 226, 116, 226, 117, 227, 104, 227, 105, 227, 114, 227, 115, 227, 116, 228, 106, 228, 107, 228, 108, 228, 109, 228, 110, 228, 111, 228, 112, 228, 113], 'iscrowd': 0}, {'id': '81', 'image_id': '55', 'category_id': 1, 'bbox': [572, 503, 36, 30], 'area': 80, 'segmentation': [508, 585, 508, 586, 508, 587, 508, 588, 508, 589, 508, 590, 508, 591, 508, 592, 509, 582, 509, 583, 509, 584, 509, 593, 509, 594, 509, 595, 510, 580, 510, 581, 510, 596, 510, 597, 511, 579, 511, 580, 511, 598, 511, 599, 512, 577, 512, 578, 512, 600, 512, 601, 513, 577, 513, 601, 513, 602, 514, 576, 514, 602, 514, 603, 515, 576, 515, 603, 516, 575, 516, 604, 517, 575, 517, 604, 518, 575, 518, 604, 519, 575, 519, 604, 520, 576, 520, 604, 521, 576, 521, 577, 521, 604, 522, 577, 522, 604, 523, 578, 523, 603, 523, 604, 524, 579, 524, 580, 524, 602, 524, 603, 525, 580, 525, 581, 525, 601, 525, 602, 526, 582, 526, 583, 526, 599, 526, 600, 526, 601, 527, 584, 527, 585, 527, 586, 527, 587, 527, 588, 527, 589, 527, 594, 527, 595, 527, 596, 527, 597, 527, 598, 528, 590, 528, 591, 528, 592, 528, 593], 'iscrowd': 0}, {'id': '82', 'image_id': '56', 'category_id': 1, 'bbox': [112, 593, 42, 41], 'area': 98, 'segmentation': [599, 129, 599, 130, 599, 131, 599, 132, 599, 133, 600, 126, 600, 127, 600, 128, 600, 134, 600, 135, 600, 136, 600, 137, 601, 124, 601, 125, 601, 138, 601, 139, 602, 122, 602, 123, 602, 140, 602, 141, 603, 121, 603, 122, 603, 141, 603, 142, 604, 120, 604, 121, 604, 143, 604, 144, 605, 119, 605, 120, 605, 144, 605, 145, 606, 119, 606, 145, 607, 118, 607, 146, 608, 118, 608, 146, 608, 147, 609, 117, 609, 147, 610, 117, 610, 147, 611, 117, 611, 148, 612, 117, 612, 148, 613, 117, 613, 148, 614, 117, 614, 148, 615, 117, 615, 148, 616, 118, 616, 148, 617, 118, 617, 148, 618, 119, 618, 148, 619, 119, 619, 120, 619, 148, 620, 120, 620, 148, 621, 121, 621, 147, 622, 121, 622, 122, 622, 146, 622, 147, 623, 123, 623, 124, 623, 145, 623, 146, 624, 124, 624, 125, 624, 144, 624, 145, 625, 125, 625, 126, 625, 127, 625, 143, 625, 144, 626, 128, 626, 129, 626, 130, 626, 139, 626, 140, 626, 141, 626, 142, 627, 131, 627, 132, 627, 133, 627, 134, 627, 135, 627, 136, 627, 137, 627, 138], 'iscrowd': 0}, {'id': '83', 'image_id': '56', 'category_id': 1, 'bbox': [607, 565, 19, 15], 'area': 41, 'segmentation': [567, 615, 567, 616, 567, 617, 567, 618, 567, 619, 568, 612, 568, 613, 568, 614, 568, 620, 568, 621, 569, 610, 569, 611, 569, 622, 569, 623, 570, 610, 570, 623, 570, 624, 571, 609, 571, 624, 572, 609, 572, 624, 573, 609, 573, 624, 574, 610, 574, 623, 574, 624, 575, 610, 575, 611, 575, 622, 575, 623, 576, 612, 576, 613, 576, 614, 576, 615, 576, 616, 576, 617, 576, 618, 576, 619, 576, 620, 576, 621, 576, 622], 'iscrowd': 0}, {'id': '84', 'image_id': '57', 'category_id': 1, 'bbox': [178, 360, 30, 17], 'area': 62, 'segmentation': [362, 187, 362, 188, 362, 189, 362, 190, 362, 191, 363, 184, 363, 185, 363, 186, 363, 192, 363, 193, 363, 194, 363, 195, 363, 196, 364, 182, 364, 183, 364, 197, 364, 198, 364, 199, 365, 180, 365, 181, 365, 200, 365, 201, 366, 180, 366, 202, 366, 203, 367, 180, 367, 203, 367, 204, 368, 180, 368, 205, 369, 181, 369, 206, 370, 181, 370, 182, 370, 206, 371, 183, 371, 184, 371, 206, 372, 184, 372, 185, 372, 186, 372, 205, 372, 206, 373, 187, 373, 188, 373, 189, 373, 190, 373, 203, 373, 204, 373, 205, 374, 191, 374, 192, 374, 193, 374, 194, 374, 195, 374, 196, 374, 197, 374, 198, 374, 199, 374, 200, 374, 201, 374, 202], 'iscrowd': 0}, {'id': '85', 'image_id': '57', 'category_id': 1, 'bbox': [574, 292, 45, 45], 'area': 102, 'segmentation': [299, 595, 299, 596, 299, 597, 299, 598, 299, 599, 299, 600, 300, 592, 300, 593, 300, 594, 300, 601, 300, 602, 300, 603, 301, 590, 301, 591, 301, 604, 301, 605, 302, 588, 302, 589, 302, 606, 302, 607, 303, 587, 303, 588, 303, 608, 303, 609, 304, 585, 304, 586, 304, 609, 304, 610, 305, 584, 305, 585, 305, 610, 306, 584, 306, 611, 307, 583, 307, 611, 307, 612, 308, 582, 308, 583, 308, 612, 309, 582, 309, 612, 310, 581, 310, 613, 311, 581, 311, 613, 312, 581, 312, 613, 313, 580, 313, 613, 314, 580, 314, 613, 315, 580, 315, 613, 316, 580, 316, 613, 317, 580, 317, 613, 318, 581, 318, 612, 319, 581, 319, 612, 320, 581, 320, 612, 321, 582, 321, 611, 322, 582, 322, 583, 322, 610, 322, 611, 323, 583, 323, 609, 323, 610, 324, 584, 324, 608, 324, 609, 325, 584, 325, 585, 325, 607, 325, 608, 326, 586, 326, 587, 326, 606, 326, 607, 327, 587, 327, 588, 327, 604, 327, 605, 328, 589, 328, 590, 328, 591, 328, 592, 328, 600, 328, 601, 328, 602, 328, 603, 329, 593, 329, 594, 329, 595, 329, 596, 329, 597, 329, 598, 329, 599], 'iscrowd': 0}, {'id': '86', 'image_id': '57', 'category_id': 1, 'bbox': [322, 376, 38, 20], 'area': 80, 'segmentation': [377, 331, 377, 332, 377, 333, 377, 334, 377, 335, 378, 328, 378, 329, 378, 330, 378, 336, 378, 337, 378, 338, 378, 339, 378, 340, 379, 326, 379, 327, 379, 341, 379, 342, 379, 343, 380, 325, 380, 326, 380, 344, 380, 345, 380, 346, 381, 325, 381, 347, 381, 348, 382, 324, 382, 349, 382, 350, 383, 325, 383, 351, 383, 352, 384, 325, 384, 352, 384, 353, 385, 326, 385, 354, 385, 355, 386, 326, 386, 327, 386, 355, 386, 356, 387, 327, 387, 328, 387, 356, 388, 329, 388, 330, 388, 357, 389, 330, 389, 331, 389, 357, 390, 332, 390, 333, 390, 357, 391, 334, 391, 335, 391, 336, 391, 357, 392, 337, 392, 338, 392, 339, 392, 356, 392, 357, 393, 340, 393, 341, 393, 342, 393, 343, 393, 344, 393, 354, 393, 355, 393, 356, 394, 345, 394, 346, 394, 347, 394, 348, 394, 349, 394, 350, 394, 351, 394, 352, 394, 353], 'iscrowd': 0}, {'id': '87', 'image_id': '58', 'category_id': 1, 'bbox': [160, 87, 26, 15], 'area': 57, 'segmentation': [88, 165, 88, 166, 88, 167, 88, 168, 88, 169, 88, 170, 89, 163, 89, 164, 89, 171, 89, 172, 89, 173, 90, 162, 90, 163, 90, 174, 90, 175, 90, 176, 91, 162, 91, 177, 91, 178, 92, 162, 92, 179, 92, 180, 93, 162, 93, 163, 93, 180, 93, 181, 94, 163, 94, 164, 94, 182, 94, 183, 95, 164, 95, 165, 95, 183, 96, 165, 96, 166, 96, 184, 97, 166, 97, 167, 97, 184, 98, 168, 98, 169, 98, 170, 98, 184, 99, 171, 99, 172, 99, 173, 99, 174, 99, 183, 99, 184, 100, 175, 100, 176, 100, 177, 100, 178, 100, 179, 100, 180, 100, 181, 100, 182], 'iscrowd': 0}, {'id': '88', 'image_id': '59', 'category_id': 1, 'bbox': [334, 74, 43, 41], 'area': 97, 'segmentation': [80, 357, 80, 358, 80, 359, 80, 360, 81, 353, 81, 354, 81, 355, 81, 356, 81, 361, 81, 362, 81, 363, 82, 351, 82, 352, 82, 364, 82, 365, 83, 349, 83, 350, 83, 366, 83, 367, 84, 348, 84, 349, 84, 367, 84, 368, 85, 346, 85, 347, 85, 368, 85, 369, 86, 345, 86, 346, 86, 369, 86, 370, 87, 344, 87, 345, 87, 370, 88, 343, 88, 344, 88, 370, 89, 343, 89, 371, 90, 342, 90, 371, 91, 342, 91, 371, 92, 341, 92, 371, 93, 341, 93, 371, 94, 340, 94, 371, 95, 340, 95, 371, 96, 340, 96, 370, 97, 340, 97, 370, 98, 340, 98, 370, 99, 340, 99, 369, 100, 340, 100, 368, 100, 369, 101, 340, 101, 368, 102, 341, 102, 367, 103, 341, 103, 342, 103, 366, 103, 367, 104, 342, 104, 364, 104, 365, 105, 343, 105, 363, 105, 364, 106, 344, 106, 345, 106, 362, 106, 363, 107, 345, 107, 346, 107, 359, 107, 360, 107, 361, 108, 347, 108, 348, 108, 349, 108, 350, 108, 351, 108, 352, 108, 353, 108, 354, 108, 355, 108, 356, 108, 357, 108, 358], 'iscrowd': 0}, {'id': '89', 'image_id': '59', 'category_id': 1, 'bbox': [292, 293, 36, 28], 'area': 82, 'segmentation': [294, 314, 294, 315, 294, 316, 294, 317, 294, 318, 295, 311, 295, 312, 295, 313, 295, 319, 295, 320, 296, 309, 296, 310, 296, 320, 296, 321, 297, 308, 297, 309, 297, 321, 298, 306, 298, 307, 298, 322, 299, 305, 299, 306, 299, 322, 300, 304, 300, 305, 300, 322, 301, 303, 301, 304, 301, 322, 302, 302, 302, 303, 302, 322, 303, 301, 303, 302, 303, 322, 304, 301, 304, 322, 305, 300, 305, 321, 306, 300, 306, 321, 307, 299, 307, 321, 308, 299, 308, 320, 309, 298, 309, 320, 310, 298, 310, 319, 311, 298, 311, 318, 311, 319, 312, 297, 312, 317, 312, 318, 313, 297, 313, 316, 313, 317, 314, 298, 314, 315, 314, 316, 315, 298, 315, 314, 315, 315, 316, 298, 316, 313, 316, 314, 317, 299, 317, 311, 317, 312, 318, 299, 318, 300, 318, 309, 318, 310, 319, 301, 319, 302, 319, 303, 319, 304, 319, 305, 319, 306, 319, 307, 319, 308], 'iscrowd': 0}, {'id': '90', 'image_id': '60', 'category_id': 1, 'bbox': [265, 540, 12, 8], 'area': 25, 'segmentation': [540, 272, 540, 273, 540, 274, 541, 270, 541, 271, 541, 274, 542, 269, 542, 270, 542, 274, 543, 268, 543, 269, 543, 274, 544, 268, 544, 273, 544, 274, 545, 267, 545, 272, 545, 273, 546, 267, 546, 271, 546, 272, 547, 268, 547, 269, 547, 270, 547, 271], 'iscrowd': 0}, {'id': '91', 'image_id': '60', 'category_id': 1, 'bbox': [560, 113, 34, 19], 'area': 74, 'segmentation': [115, 580, 115, 581, 115, 582, 115, 583, 115, 584, 115, 585, 115, 586, 115, 587, 116, 575, 116, 576, 116, 577, 116, 578, 116, 579, 116, 588, 116, 589, 117, 573, 117, 574, 117, 590, 117, 591, 118, 570, 118, 571, 118, 572, 118, 591, 118, 592, 119, 568, 119, 569, 119, 592, 120, 567, 120, 568, 120, 592, 121, 565, 121, 566, 121, 592, 122, 564, 122, 565, 122, 591, 123, 563, 123, 564, 123, 590, 123, 591, 124, 563, 124, 589, 124, 590, 125, 562, 125, 588, 125, 589, 126, 562, 126, 586, 126, 587, 127, 563, 127, 583, 127, 584, 127, 585, 128, 563, 128, 564, 128, 580, 128, 581, 128, 582, 129, 564, 129, 565, 129, 566, 129, 567, 129, 568, 129, 569, 129, 570, 129, 571, 129, 572, 129, 573, 129, 574, 129, 575, 129, 576, 129, 577, 129, 578, 129, 579], 'iscrowd': 0}, {'id': '92', 'image_id': '61', 'category_id': 1, 'bbox': [152, 21, 23, 10], 'area': 47, 'segmentation': [20, 169, 20, 170, 20, 171, 21, 166, 21, 167, 21, 168, 21, 172, 21, 173, 22, 163, 22, 164, 22, 165, 22, 173, 23, 161, 23, 162, 23, 173, 24, 159, 24, 160, 24, 173, 25, 157, 25, 158, 25, 172, 25, 173, 26, 155, 26, 156, 26, 170, 26, 171, 27, 154, 27, 155, 27, 169, 27, 170, 28, 154, 28, 167, 28, 168, 29, 153, 29, 164, 29, 165, 29, 166, 30, 154, 30, 155, 30, 156, 30, 157, 30, 158, 30, 159, 30, 160, 30, 161, 30, 162, 30, 163], 'iscrowd': 0}, {'id': '93', 'image_id': '61', 'category_id': 1, 'bbox': [11, 62, 32, 27], 'area': 71, 'segmentation': [62, 25, 62, 26, 62, 27, 62, 28, 63, 23, 63, 24, 63, 29, 63, 30, 64, 21, 64, 22, 64, 30, 64, 31, 65, 21, 65, 31, 65, 32, 66, 20, 66, 32, 66, 33, 67, 20, 67, 33, 68, 19, 68, 33, 69, 19, 69, 34, 70, 18, 70, 34, 71, 18, 71, 34, 72, 18, 72, 35, 73, 18, 73, 35, 74, 18, 74, 35, 75, 18, 75, 35, 76, 18, 76, 35, 77, 18, 77, 35, 78, 18, 78, 35, 79, 18, 79, 35, 80, 19, 80, 35, 81, 19, 81, 34, 82, 19, 82, 34, 83, 20, 83, 34, 84, 20, 84, 21, 84, 34, 85, 21, 85, 33, 86, 22, 86, 32, 86, 33, 87, 22, 87, 23, 87, 31, 87, 32, 88, 24, 88, 25, 88, 26, 88, 27, 88, 28, 88, 29, 88, 30], 'iscrowd': 0}, {'id': '94', 'image_id': '61', 'category_id': 1, 'bbox': [92, 192, 35, 9], 'area': 27, 'segmentation': [191, 106, 191, 107, 191, 108, 191, 109, 191, 110, 192, 105, 192, 111, 193, 104, 193, 112, 194, 105, 194, 112, 195, 105, 195, 112, 196, 105, 196, 113, 197, 106, 197, 113, 198, 106, 198, 113, 199, 107, 199, 114, 200, 107, 200, 108, 200, 109, 200, 110, 200, 111, 200, 112], 'iscrowd': 0}, {'id': '95', 'image_id': '62', 'category_id': 1, 'bbox': [621, 514, 16, 16], 'area': 33, 'segmentation': [517, 628, 517, 629, 517, 630, 517, 631, 518, 626, 518, 627, 518, 632, 518, 633, 519, 624, 519, 625, 519, 634, 520, 624, 520, 634, 521, 623, 521, 634, 522, 623, 522, 634, 523, 623, 523, 634, 524, 624, 524, 634, 525, 624, 525, 625, 525, 633, 525, 634, 526, 625, 526, 626, 526, 627, 526, 628, 526, 629, 526, 630, 526, 631, 526, 632], 'iscrowd': 0}, {'id': '96', 'image_id': '62', 'category_id': 1, 'bbox': [42, 530, 37, 30], 'area': 84, 'segmentation': [531, 54, 531, 55, 531, 56, 531, 57, 531, 58, 532, 52, 532, 53, 532, 59, 532, 60, 533, 51, 533, 61, 533, 62, 534, 50, 534, 62, 534, 63, 535, 50, 535, 64, 535, 65, 536, 49, 536, 65, 536, 66, 537, 49, 537, 66, 537, 67, 538, 49, 538, 67, 539, 48, 539, 68, 540, 48, 540, 68, 540, 69, 541, 49, 541, 69, 542, 49, 542, 70, 543, 49, 543, 70, 544, 49, 544, 70, 545, 50, 545, 71, 546, 50, 546, 71, 547, 51, 547, 71, 548, 51, 548, 72, 549, 52, 549, 72, 550, 52, 550, 72, 551, 53, 551, 72, 552, 53, 552, 54, 552, 72, 553, 54, 553, 55, 553, 72, 554, 55, 554, 56, 554, 72, 555, 56, 555, 57, 555, 71, 556, 57, 556, 58, 556, 71, 557, 58, 557, 59, 557, 70, 557, 71, 558, 60, 558, 61, 558, 69, 558, 70, 559, 62, 559, 63, 559, 64, 559, 65, 559, 66, 559, 67, 559, 68, 559, 69], 'iscrowd': 0}, {'id': '97', 'image_id': '62', 'category_id': 1, 'bbox': [136, 51, 50, 50], 'area': 111, 'segmentation': [59, 158, 59, 159, 59, 160, 59, 161, 59, 162, 59, 163, 59, 164, 59, 165, 60, 155, 60, 156, 60, 157, 60, 166, 60, 167, 61, 153, 61, 154, 61, 168, 61, 169, 62, 151, 62, 152, 62, 170, 62, 171, 63, 150, 63, 151, 63, 172, 63, 173, 64, 148, 64, 149, 64, 173, 64, 174, 65, 147, 65, 148, 65, 174, 65, 175, 66, 147, 66, 175, 66, 176, 67, 146, 67, 176, 68, 146, 68, 177, 69, 145, 69, 177, 70, 145, 70, 178, 71, 144, 71, 178, 72, 144, 72, 178, 73, 143, 73, 178, 74, 143, 74, 178, 75, 143, 75, 178, 76, 143, 76, 178, 77, 143, 77, 178, 78, 143, 78, 178, 79, 143, 79, 178, 80, 144, 80, 178, 81, 144, 81, 178, 82, 145, 82, 178, 83, 145, 83, 177, 84, 146, 84, 177, 85, 146, 85, 176, 86, 147, 86, 175, 86, 176, 87, 147, 87, 148, 87, 174, 87, 175, 88, 148, 88, 149, 88, 173, 88, 174, 89, 149, 89, 150, 89, 172, 89, 173, 90, 151, 90, 152, 90, 170, 90, 171, 91, 153, 91, 154, 91, 168, 91, 169, 91, 170, 92, 155, 92, 156, 92, 157, 92, 158, 92, 159, 92, 160, 92, 161, 92, 162, 92, 163, 92, 164, 92, 165, 92, 166, 92, 167], 'iscrowd': 0}, {'id': '98', 'image_id': '63', 'category_id': 1, 'bbox': [144, 405, 23, 22], 'area': 49, 'segmentation': [408, 154, 408, 155, 409, 151, 409, 152, 409, 153, 409, 156, 409, 157, 410, 149, 410, 150, 410, 158, 410, 159, 411, 148, 411, 149, 411, 160, 411, 161, 412, 148, 412, 161, 412, 162, 413, 147, 413, 162, 414, 147, 414, 163, 415, 146, 415, 163, 416, 147, 416, 163, 417, 147, 417, 163, 418, 148, 418, 163, 419, 148, 419, 163, 420, 149, 420, 163, 421, 149, 421, 150, 421, 162, 422, 151, 422, 152, 422, 161, 422, 162, 423, 153, 423, 154, 423, 155, 423, 156, 423, 157, 423, 158, 423, 159, 423, 160], 'iscrowd': 0}, {'id': '99', 'image_id': '64', 'category_id': 1, 'bbox': [483, 167, 40, 39], 'area': 91, 'segmentation': [172, 497, 172, 498, 172, 499, 172, 500, 172, 501, 172, 502, 172, 503, 172, 504, 173, 495, 173, 496, 173, 505, 173, 506, 174, 493, 174, 494, 174, 507, 174, 508, 175, 492, 175, 493, 175, 508, 175, 509, 176, 492, 176, 509, 176, 510, 177, 491, 177, 511, 178, 491, 178, 512, 179, 490, 179, 512, 179, 513, 180, 490, 180, 513, 180, 514, 181, 489, 181, 514, 182, 489, 182, 514, 183, 489, 183, 515, 184, 489, 184, 515, 185, 489, 185, 515, 186, 489, 186, 516, 187, 490, 187, 516, 188, 490, 188, 516, 189, 490, 189, 516, 190, 491, 190, 516, 191, 491, 191, 516, 192, 492, 192, 516, 193, 492, 193, 493, 193, 516, 194, 493, 194, 515, 195, 494, 195, 515, 196, 494, 196, 495, 196, 514, 196, 515, 197, 496, 197, 497, 197, 513, 197, 514, 198, 497, 198, 498, 198, 512, 198, 513, 199, 498, 199, 499, 199, 500, 199, 511, 199, 512, 200, 501, 200, 502, 200, 503, 200, 504, 200, 505, 200, 506, 200, 507, 200, 508, 200, 509, 200, 510], 'iscrowd': 0}], 'final_count_images': 0, 'final_count_annotations': 0, 'categories': [{'id': 0, 'name': 'flaws', 'supercategory': 'none'}, {'id': 1, 'name': 'defects', 'supercategory': 'none'}]}\n"
          ]
        },
        {
          "output_type": "stream",
          "name": "stderr",
          "text": [
            "\n"
          ]
        }
      ]
    },
    {
      "cell_type": "code",
      "metadata": {
        "colab": {
          "base_uri": "https://localhost:8080/"
        },
        "id": "T5-IdatcJzfb",
        "outputId": "937e0e11-ab30-4209-bf51-1fa3eb810b1e"
      },
      "source": [
        "%ls GDXray/Castings/C0001/\n"
      ],
      "execution_count": 112,
      "outputs": [
        {
          "output_type": "stream",
          "name": "stdout",
          "text": [
            "ls: cannot access 'GDXray/Castings/C0001/': No such file or directory\n"
          ]
        }
      ]
    }
  ]
}